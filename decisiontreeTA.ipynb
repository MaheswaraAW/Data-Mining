{
  "nbformat": 4,
  "nbformat_minor": 0,
  "metadata": {
    "colab": {
      "name": "decisiontreeTA.ipynb",
      "provenance": [],
      "collapsed_sections": [],
      "authorship_tag": "ABX9TyN7IpsNyMBlUKa4nLP5xgSf",
      "include_colab_link": true
    },
    "kernelspec": {
      "name": "python3",
      "display_name": "Python 3"
    },
    "language_info": {
      "name": "python"
    }
  },
  "cells": [
    {
      "cell_type": "markdown",
      "metadata": {
        "id": "view-in-github",
        "colab_type": "text"
      },
      "source": [
        "<a href=\"https://colab.research.google.com/github/MaheswaraAW/Data-Mining/blob/main/decisiontreeTA.ipynb\" target=\"_parent\"><img src=\"https://colab.research.google.com/assets/colab-badge.svg\" alt=\"Open In Colab\"/></a>"
      ]
    },
    {
      "cell_type": "code",
      "metadata": {
        "id": "FW0gnPbxQ6LZ"
      },
      "source": [
        "import numpy as np\n",
        "import pandas as pd\n",
        "from sklearn import tree"
      ],
      "execution_count": 148,
      "outputs": []
    },
    {
      "cell_type": "code",
      "metadata": {
        "id": "pGAsXPPjRcPE"
      },
      "source": [
        "#baca dataset file ke pandas dataframe\n",
        "DSCustomerChurn = pd.read_csv('customer-churn-data.csv', delimiter=',', header=0)"
      ],
      "execution_count": 149,
      "outputs": []
    },
    {
      "cell_type": "code",
      "metadata": {
        "colab": {
          "base_uri": "https://localhost:8080/"
        },
        "id": "ao4jUrODCiBE",
        "outputId": "f83339e8-2a5a-4692-d918-2d416e9f23e8"
      },
      "source": [
        "print(DSCustomerChurn)"
      ],
      "execution_count": 150,
      "outputs": [
        {
          "output_type": "stream",
          "text": [
            "     Gender  Age PaymentMethod Customer  LastTransaction\n",
            "0      male   64   credit card    loyal               98\n",
            "1      male   35        cheque    churn              118\n",
            "2    female   25   credit card    loyal              107\n",
            "3    female   39   credit card      NaN              177\n",
            "4      male   39   credit card    loyal               90\n",
            "..      ...  ...           ...      ...              ...\n",
            "991  female   29   credit card    loyal               33\n",
            "992    male   84   credit card    loyal              124\n",
            "993    male   20   credit card      NaN               60\n",
            "994    male   19   credit card    loyal               49\n",
            "995  female   24   credit card    loyal               25\n",
            "\n",
            "[996 rows x 5 columns]\n"
          ],
          "name": "stdout"
        }
      ]
    },
    {
      "cell_type": "code",
      "metadata": {
        "colab": {
          "base_uri": "https://localhost:8080/",
          "height": 204
        },
        "id": "KhDVkCe5B1yY",
        "outputId": "3c452ac0-da66-471f-ebc2-360084b2548c"
      },
      "source": [
        "DSCustomerChurn.head()"
      ],
      "execution_count": 151,
      "outputs": [
        {
          "output_type": "execute_result",
          "data": {
            "text/html": [
              "<div>\n",
              "<style scoped>\n",
              "    .dataframe tbody tr th:only-of-type {\n",
              "        vertical-align: middle;\n",
              "    }\n",
              "\n",
              "    .dataframe tbody tr th {\n",
              "        vertical-align: top;\n",
              "    }\n",
              "\n",
              "    .dataframe thead th {\n",
              "        text-align: right;\n",
              "    }\n",
              "</style>\n",
              "<table border=\"1\" class=\"dataframe\">\n",
              "  <thead>\n",
              "    <tr style=\"text-align: right;\">\n",
              "      <th></th>\n",
              "      <th>Gender</th>\n",
              "      <th>Age</th>\n",
              "      <th>PaymentMethod</th>\n",
              "      <th>Customer</th>\n",
              "      <th>LastTransaction</th>\n",
              "    </tr>\n",
              "  </thead>\n",
              "  <tbody>\n",
              "    <tr>\n",
              "      <th>0</th>\n",
              "      <td>male</td>\n",
              "      <td>64</td>\n",
              "      <td>credit card</td>\n",
              "      <td>loyal</td>\n",
              "      <td>98</td>\n",
              "    </tr>\n",
              "    <tr>\n",
              "      <th>1</th>\n",
              "      <td>male</td>\n",
              "      <td>35</td>\n",
              "      <td>cheque</td>\n",
              "      <td>churn</td>\n",
              "      <td>118</td>\n",
              "    </tr>\n",
              "    <tr>\n",
              "      <th>2</th>\n",
              "      <td>female</td>\n",
              "      <td>25</td>\n",
              "      <td>credit card</td>\n",
              "      <td>loyal</td>\n",
              "      <td>107</td>\n",
              "    </tr>\n",
              "    <tr>\n",
              "      <th>3</th>\n",
              "      <td>female</td>\n",
              "      <td>39</td>\n",
              "      <td>credit card</td>\n",
              "      <td>NaN</td>\n",
              "      <td>177</td>\n",
              "    </tr>\n",
              "    <tr>\n",
              "      <th>4</th>\n",
              "      <td>male</td>\n",
              "      <td>39</td>\n",
              "      <td>credit card</td>\n",
              "      <td>loyal</td>\n",
              "      <td>90</td>\n",
              "    </tr>\n",
              "  </tbody>\n",
              "</table>\n",
              "</div>"
            ],
            "text/plain": [
              "   Gender  Age PaymentMethod Customer  LastTransaction\n",
              "0    male   64   credit card    loyal               98\n",
              "1    male   35        cheque    churn              118\n",
              "2  female   25   credit card    loyal              107\n",
              "3  female   39   credit card      NaN              177\n",
              "4    male   39   credit card    loyal               90"
            ]
          },
          "metadata": {
            "tags": []
          },
          "execution_count": 151
        }
      ]
    },
    {
      "cell_type": "code",
      "metadata": {
        "id": "mwyXc4n1Bp7t"
      },
      "source": [
        "#mengubah kelas (kolom \"Customer\") dari string ke unique-integer\n",
        "DSCustomerChurn[\"Customer\"] = pd.factorize(DSCustomerChurn.Customer)[0]\n",
        "DSCustomerChurn[\"Gender\"] = pd.factorize(DSCustomerChurn.Gender)[0]\n",
        "DSCustomerChurn[\"PaymentMethod\"] = pd.factorize(DSCustomerChurn.PaymentMethod)[0]"
      ],
      "execution_count": 152,
      "outputs": []
    },
    {
      "cell_type": "code",
      "metadata": {
        "colab": {
          "base_uri": "https://localhost:8080/",
          "height": 204
        },
        "id": "eeVCOOQsCCBN",
        "outputId": "8bea6649-ba53-42aa-dec2-3ec4f0d05721"
      },
      "source": [
        "DSCustomerChurn.head()"
      ],
      "execution_count": 153,
      "outputs": [
        {
          "output_type": "execute_result",
          "data": {
            "text/html": [
              "<div>\n",
              "<style scoped>\n",
              "    .dataframe tbody tr th:only-of-type {\n",
              "        vertical-align: middle;\n",
              "    }\n",
              "\n",
              "    .dataframe tbody tr th {\n",
              "        vertical-align: top;\n",
              "    }\n",
              "\n",
              "    .dataframe thead th {\n",
              "        text-align: right;\n",
              "    }\n",
              "</style>\n",
              "<table border=\"1\" class=\"dataframe\">\n",
              "  <thead>\n",
              "    <tr style=\"text-align: right;\">\n",
              "      <th></th>\n",
              "      <th>Gender</th>\n",
              "      <th>Age</th>\n",
              "      <th>PaymentMethod</th>\n",
              "      <th>Customer</th>\n",
              "      <th>LastTransaction</th>\n",
              "    </tr>\n",
              "  </thead>\n",
              "  <tbody>\n",
              "    <tr>\n",
              "      <th>0</th>\n",
              "      <td>0</td>\n",
              "      <td>64</td>\n",
              "      <td>0</td>\n",
              "      <td>0</td>\n",
              "      <td>98</td>\n",
              "    </tr>\n",
              "    <tr>\n",
              "      <th>1</th>\n",
              "      <td>0</td>\n",
              "      <td>35</td>\n",
              "      <td>1</td>\n",
              "      <td>1</td>\n",
              "      <td>118</td>\n",
              "    </tr>\n",
              "    <tr>\n",
              "      <th>2</th>\n",
              "      <td>1</td>\n",
              "      <td>25</td>\n",
              "      <td>0</td>\n",
              "      <td>0</td>\n",
              "      <td>107</td>\n",
              "    </tr>\n",
              "    <tr>\n",
              "      <th>3</th>\n",
              "      <td>1</td>\n",
              "      <td>39</td>\n",
              "      <td>0</td>\n",
              "      <td>-1</td>\n",
              "      <td>177</td>\n",
              "    </tr>\n",
              "    <tr>\n",
              "      <th>4</th>\n",
              "      <td>0</td>\n",
              "      <td>39</td>\n",
              "      <td>0</td>\n",
              "      <td>0</td>\n",
              "      <td>90</td>\n",
              "    </tr>\n",
              "  </tbody>\n",
              "</table>\n",
              "</div>"
            ],
            "text/plain": [
              "   Gender  Age  PaymentMethod  Customer  LastTransaction\n",
              "0       0   64              0         0               98\n",
              "1       0   35              1         1              118\n",
              "2       1   25              0         0              107\n",
              "3       1   39              0        -1              177\n",
              "4       0   39              0         0               90"
            ]
          },
          "metadata": {
            "tags": []
          },
          "execution_count": 153
        }
      ]
    },
    {
      "cell_type": "code",
      "metadata": {
        "id": "6NdIRzP8DKN0"
      },
      "source": [
        "#ubah dataframe ke array numpy\n",
        "DSCustomerChurn = DSCustomerChurn.to_numpy()"
      ],
      "execution_count": 154,
      "outputs": []
    },
    {
      "cell_type": "code",
      "metadata": {
        "colab": {
          "base_uri": "https://localhost:8080/"
        },
        "id": "a0oHL2CBDRXZ",
        "outputId": "b142340b-3bb7-4aaa-fa66-28f244298922"
      },
      "source": [
        "print(DSCustomerChurn)"
      ],
      "execution_count": 155,
      "outputs": [
        {
          "output_type": "stream",
          "text": [
            "[[  0  64   0   0  98]\n",
            " [  0  35   1   1 118]\n",
            " [  1  25   0   0 107]\n",
            " ...\n",
            " [  0  20   0  -1  60]\n",
            " [  0  19   0   0  49]\n",
            " [  1  24   0   0  25]]\n"
          ],
          "name": "stdout"
        }
      ]
    },
    {
      "cell_type": "code",
      "metadata": {
        "id": "Xa0gs044TUyZ"
      },
      "source": [
        "#Dataset = 900 training dan 96 testing\n",
        "dataTraining = np.concatenate((DSCustomerChurn[0:800, :], DSCustomerChurn[800:900, :]), axis=0)\n",
        "dataTesting = np.concatenate((DSCustomerChurn[900:940 ,:], DSCustomerChurn[940:996, :]), axis=0)"
      ],
      "execution_count": 156,
      "outputs": []
    },
    {
      "cell_type": "code",
      "metadata": {
        "colab": {
          "base_uri": "https://localhost:8080/"
        },
        "id": "XKavW8mSEOw3",
        "outputId": "722b43fc-2769-48d2-cf21-dff9c6051a01"
      },
      "source": [
        "len(dataTraining)"
      ],
      "execution_count": 157,
      "outputs": [
        {
          "output_type": "execute_result",
          "data": {
            "text/plain": [
              "900"
            ]
          },
          "metadata": {
            "tags": []
          },
          "execution_count": 157
        }
      ]
    },
    {
      "cell_type": "code",
      "metadata": {
        "colab": {
          "base_uri": "https://localhost:8080/"
        },
        "id": "ISnGzWIYEfEf",
        "outputId": "ab1de689-b5a5-493e-e65b-e69e7753430e"
      },
      "source": [
        "len(dataTesting)"
      ],
      "execution_count": 158,
      "outputs": [
        {
          "output_type": "execute_result",
          "data": {
            "text/plain": [
              "96"
            ]
          },
          "metadata": {
            "tags": []
          },
          "execution_count": 158
        }
      ]
    },
    {
      "cell_type": "code",
      "metadata": {
        "id": "pkPFm7ci-KoI"
      },
      "source": [
        "model = tree.DecisionTreeClassifier()"
      ],
      "execution_count": 159,
      "outputs": []
    },
    {
      "cell_type": "code",
      "metadata": {
        "id": "8EZ4c7owFVTL"
      },
      "source": [
        "inputTraining = dataTraining[:, 0:5]\n",
        "inputTesting = dataTesting[:, 0:5]\n",
        "labelTraining = dataTraining[:, 0:5]\n",
        "labelTesting = dataTesting[:, 0:5]"
      ],
      "execution_count": 160,
      "outputs": []
    },
    {
      "cell_type": "code",
      "metadata": {
        "colab": {
          "base_uri": "https://localhost:8080/"
        },
        "id": "Cx1oKVHDFxja",
        "outputId": "119a3761-365c-4c5a-e2dd-78e0412db39f"
      },
      "source": [
        "print(labelTraining)"
      ],
      "execution_count": 161,
      "outputs": [
        {
          "output_type": "stream",
          "text": [
            "[[  0  64   0   0  98]\n",
            " [  0  35   1   1 118]\n",
            " [  1  25   0   0 107]\n",
            " ...\n",
            " [  0  67   2   1 157]\n",
            " [  0  87   1   0 138]\n",
            " [  0  29   2   0  45]]\n"
          ],
          "name": "stdout"
        }
      ]
    },
    {
      "cell_type": "code",
      "metadata": {
        "colab": {
          "base_uri": "https://localhost:8080/"
        },
        "id": "Xj8z7COmJuj7",
        "outputId": "36195327-686e-4ddf-c48c-a498ba652658"
      },
      "source": [
        "len(labelTraining)"
      ],
      "execution_count": 162,
      "outputs": [
        {
          "output_type": "execute_result",
          "data": {
            "text/plain": [
              "900"
            ]
          },
          "metadata": {
            "tags": []
          },
          "execution_count": 162
        }
      ]
    },
    {
      "cell_type": "code",
      "metadata": {
        "colab": {
          "base_uri": "https://localhost:8080/"
        },
        "id": "_4a7qv9rF4m4",
        "outputId": "94ee51b4-9431-4136-d8ef-f2175196b472"
      },
      "source": [
        "print(inputTraining)"
      ],
      "execution_count": 163,
      "outputs": [
        {
          "output_type": "stream",
          "text": [
            "[[  0  64   0   0  98]\n",
            " [  0  35   1   1 118]\n",
            " [  1  25   0   0 107]\n",
            " ...\n",
            " [  0  67   2   1 157]\n",
            " [  0  87   1   0 138]\n",
            " [  0  29   2   0  45]]\n"
          ],
          "name": "stdout"
        }
      ]
    },
    {
      "cell_type": "code",
      "metadata": {
        "colab": {
          "base_uri": "https://localhost:8080/"
        },
        "id": "ahSRB_9KJynz",
        "outputId": "7ae283c1-79db-4ed6-bc9e-a8852b371705"
      },
      "source": [
        "len(inputTraining)"
      ],
      "execution_count": 164,
      "outputs": [
        {
          "output_type": "execute_result",
          "data": {
            "text/plain": [
              "900"
            ]
          },
          "metadata": {
            "tags": []
          },
          "execution_count": 164
        }
      ]
    },
    {
      "cell_type": "code",
      "metadata": {
        "id": "C-v-SCpoE7IX"
      },
      "source": [
        "#training model\n",
        "model = model.fit(inputTraining, labelTraining)"
      ],
      "execution_count": 165,
      "outputs": []
    },
    {
      "cell_type": "code",
      "metadata": {
        "colab": {
          "base_uri": "https://localhost:8080/"
        },
        "id": "XGapfyPtm_tK",
        "outputId": "2c5fc3a2-f4ee-4d28-ad17-443d29bed9a7"
      },
      "source": [
        "#prediksi input data testing\n",
        "hasilPrediksi = model.predict(inputTesting)\n",
        "print(\"Label Sebenarnya: \", labelTesting)\n",
        "print(\"Hasil Prediksi: \", hasilPrediksi)"
      ],
      "execution_count": 167,
      "outputs": [
        {
          "output_type": "stream",
          "text": [
            "Label Sebenarnya:  [[  1  51   0   1 113]\n",
            " [  0  31   0   0  67]\n",
            " [  1  34   0   1 133]\n",
            " [  0  32   0   0  85]\n",
            " [  1  26   1   0 177]\n",
            " [  0  65   0   0  55]\n",
            " [  0  43   0   0  78]\n",
            " [  1  45   0   1 101]\n",
            " [  1  57   2   0  68]\n",
            " [  0  34   0   1  35]\n",
            " [  1  18   0   1  34]\n",
            " [  1  70   2   0 104]\n",
            " [  1  75   0  -1  89]\n",
            " [  1  46   0   0  87]\n",
            " [  0  24   0   0  80]\n",
            " [  0  52   0   0 104]\n",
            " [  1  48   2   0 150]\n",
            " [  1  27   2   1 148]\n",
            " [  0  26   0   0  42]\n",
            " [  0  57   2  -1 168]\n",
            " [  1  66   0   1  75]\n",
            " [  0  49   0   0  77]\n",
            " [  1  55   0   0 111]\n",
            " [  1  24   2   1 110]\n",
            " [  1  63   2   0  89]\n",
            " [  1  52   0   1 107]\n",
            " [  0  25   2   0  86]\n",
            " [  1  30   0   0 100]\n",
            " [  0  63   1   0  75]\n",
            " [  1  76   0   1 111]\n",
            " [  1  69   1   1  93]\n",
            " [  1  43   2   1 123]\n",
            " [  0  42   0   0  49]\n",
            " [  0  51   0   0  54]\n",
            " [  0  44   0   0  79]\n",
            " [  0  51   0   0  38]\n",
            " [  0  30   0   0  23]\n",
            " [  0  48   1  -1  40]\n",
            " [  1  28   0   1   7]\n",
            " [  0  50   0   0  87]\n",
            " [  0  25   0   0 103]\n",
            " [  0  56   2   1  49]\n",
            " [  1  17   0   1 106]\n",
            " [  1  59   0   1 108]\n",
            " [  1  70   2   1 114]\n",
            " [  0  45   2   1 129]\n",
            " [  0  43   2   0  83]\n",
            " [  0  50   0   0  34]\n",
            " [  0  46   2   0 119]\n",
            " [  1  25   0  -1 104]\n",
            " [  0  43   0  -1  77]\n",
            " [  0  29   2   0 109]\n",
            " [  0  49   0   0  57]\n",
            " [  1  43   2   1 102]\n",
            " [  0  35   2   1  70]\n",
            " [  0  19   0   0  19]\n",
            " [  0  76   2   1 128]\n",
            " [  1  53   0   0  99]\n",
            " [  1  64   0   1  91]\n",
            " [  1  42   0   1 141]\n",
            " [  0  53   0   0  35]\n",
            " [  1  66   0   1  95]\n",
            " [  1  73   2   1  71]\n",
            " [  0  31   0   0  45]\n",
            " [  0  68   0   0  94]\n",
            " [  1  38   0   1 130]\n",
            " [  1  39   0   1  75]\n",
            " [  0  23   2   0  74]\n",
            " [  1  52   2   1  97]\n",
            " [  0  38   0   0   6]\n",
            " [  0  81   2   0 148]\n",
            " [  0  20   2   0 108]\n",
            " [  1  20   0   1  51]\n",
            " [  0  40   0  -1  24]\n",
            " [  0  29   2  -1  71]\n",
            " [  0  90   2  -1 118]\n",
            " [  1  42   0   1  91]\n",
            " [  0  80   1   0 109]\n",
            " [  0  43   0   0  49]\n",
            " [  0  23   0   0  59]\n",
            " [  1  29   0   0  57]\n",
            " [  1  44   0   1  89]\n",
            " [  0  37   2   0  45]\n",
            " [  0  26   0   0  58]\n",
            " [  0  21   0   0  66]\n",
            " [  1  80   1   1  56]\n",
            " [  0  50   2   0 105]\n",
            " [  1  28   0   0  23]\n",
            " [  0  82   2   0  24]\n",
            " [  0  64   0  -1  43]\n",
            " [  0  19   0   0  92]\n",
            " [  1  29   0   0  33]\n",
            " [  0  84   0   0 124]\n",
            " [  0  20   0  -1  60]\n",
            " [  0  19   0   0  49]\n",
            " [  1  24   0   0  25]]\n",
            "Hasil Prediksi:  [[  1  51   0   1 137]\n",
            " [  0  31   0   0  55]\n",
            " [  1  34   0   1 160]\n",
            " [  0  32   0   0  86]\n",
            " [  1  25   1   0 164]\n",
            " [  0  66   0   0  87]\n",
            " [  0  43   0   0  80]\n",
            " [  1  45   0   1  87]\n",
            " [  1  58   2   0  75]\n",
            " [  0  48   0   1  33]\n",
            " [  1  18   0   1   3]\n",
            " [  1  69   2   0 116]\n",
            " [  1  75   0  -1 207]\n",
            " [  1  43   0   0 140]\n",
            " [  0  24   0   0  78]\n",
            " [  0  52   0   0 115]\n",
            " [  1  17   2   0 149]\n",
            " [  1  28   2   1 151]\n",
            " [  0  26   0   0  72]\n",
            " [  0  56   2  -1 150]\n",
            " [  1  67   0   1  85]\n",
            " [  0  49   0   0  77]\n",
            " [  1  55   0   0 154]\n",
            " [  1  29   2   1 109]\n",
            " [  1  58   2   0  75]\n",
            " [  1  52   0   1 135]\n",
            " [  0  25   2   0  88]\n",
            " [  1  30   0   0  93]\n",
            " [  0  73   1   0  85]\n",
            " [  1  76   0   1 134]\n",
            " [  1  73   1   1 100]\n",
            " [  1  42   2   1 119]\n",
            " [  0  42   0   0  46]\n",
            " [  0  51   0   0  45]\n",
            " [  0  44   0   0  73]\n",
            " [  0  51   0   0  45]\n",
            " [  0  30   0   0  70]\n",
            " [  0  26   1  -1 108]\n",
            " [  1  27   0   1 107]\n",
            " [  0  50   0   0 101]\n",
            " [  0  25   0   0  92]\n",
            " [  0  53   2   1  90]\n",
            " [  1  17   0   1 115]\n",
            " [  1  59   0   1  49]\n",
            " [  1  69   2   1 108]\n",
            " [  0  55   2   1 126]\n",
            " [  0  43   2   0 122]\n",
            " [  0  50   0   0 101]\n",
            " [  0  45   2   0 162]\n",
            " [  1  30   0  -1  76]\n",
            " [  0  44   0  -1  83]\n",
            " [  0  30   2   0 117]\n",
            " [  0  49   0   0  67]\n",
            " [  1  42   2   1 119]\n",
            " [  0  37   2   1 122]\n",
            " [  0  19   0   0   1]\n",
            " [  0  70   2   1 129]\n",
            " [  1  51   0   0 102]\n",
            " [  1  64   0   1  61]\n",
            " [  1  42   0   1 139]\n",
            " [  0  53   0   0  52]\n",
            " [  1  67   0   1  85]\n",
            " [  1  80   2   1  64]\n",
            " [  0  31   0   0  42]\n",
            " [  0  68   0   0 112]\n",
            " [  1  38   0   1 138]\n",
            " [  1  39   0   1 109]\n",
            " [  0  23   2   0  67]\n",
            " [  1  52   2   1  98]\n",
            " [  0  38   0   0  83]\n",
            " [  0  75   2   0 195]\n",
            " [  0  20   2   0  68]\n",
            " [  1  19   0   1  46]\n",
            " [  0  40   0  -1  67]\n",
            " [  0  43   2  -1  67]\n",
            " [  0  81   2  -1 153]\n",
            " [  1  42   0   1 109]\n",
            " [  0  73   1   0  85]\n",
            " [  0  43   0   0  44]\n",
            " [  0  23   0   0  99]\n",
            " [  1  29   0   0  69]\n",
            " [  1  44   0   1 129]\n",
            " [  0  36   2   0 114]\n",
            " [  0  26   0   0  72]\n",
            " [  0  21   0   0  74]\n",
            " [  1  73   1   1 100]\n",
            " [  0  50   2   0 154]\n",
            " [  1  28   0   0  61]\n",
            " [  0  82   2   0 159]\n",
            " [  0  64   0  -1  68]\n",
            " [  0  19   0   0  96]\n",
            " [  1  29   0   0  30]\n",
            " [  0  84   0   0 122]\n",
            " [  0  18   0  -1  64]\n",
            " [  0  19   0   0  51]\n",
            " [  1  25   0   0  76]]\n"
          ],
          "name": "stdout"
        }
      ]
    },
    {
      "cell_type": "code",
      "metadata": {
        "colab": {
          "base_uri": "https://localhost:8080/"
        },
        "id": "STa3JmyAoCW-",
        "outputId": "18b10cb0-53f2-4f28-893d-67f5b90fec36"
      },
      "source": [
        "#hitung akurasi\n",
        "PrediksiBenar = (hasilPrediksi == labelTesting).sum()\n",
        "PrediksiSalah = (hasilPrediksi != labelTesting).sum()\n",
        "print(\"Prediksi Benar: \", PrediksiBenar, \"data\")\n",
        "print(\"Prediksi Salah: \", PrediksiSalah, \"data\")\n",
        "print(\"Akurasi: \", PrediksiBenar/(PrediksiBenar+PrediksiSalah)*100, \"%\")"
      ],
      "execution_count": 168,
      "outputs": [
        {
          "output_type": "stream",
          "text": [
            "Prediksi Benar:  346 data\n",
            "Prediksi Salah:  134 data\n",
            "Akurasi:  72.08333333333333 %\n"
          ],
          "name": "stdout"
        }
      ]
    }
  ]
}