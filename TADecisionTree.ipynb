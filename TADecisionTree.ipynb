{
  "nbformat": 4,
  "nbformat_minor": 0,
  "metadata": {
    "colab": {
      "name": "TADecisionTree.ipynb",
      "provenance": [],
      "authorship_tag": "ABX9TyNQd1HtSEZFPO+8VqCb5wpA",
      "include_colab_link": true
    },
    "kernelspec": {
      "name": "python3",
      "display_name": "Python 3"
    },
    "language_info": {
      "name": "python"
    }
  },
  "cells": [
    {
      "cell_type": "markdown",
      "metadata": {
        "id": "view-in-github",
        "colab_type": "text"
      },
      "source": [
        "<a href=\"https://colab.research.google.com/github/MaheswaraAW/Data-Mining/blob/main/TADecisionTree.ipynb\" target=\"_parent\"><img src=\"https://colab.research.google.com/assets/colab-badge.svg\" alt=\"Open In Colab\"/></a>"
      ]
    },
    {
      "cell_type": "code",
      "metadata": {
        "id": "iXqdL6qWD_eY"
      },
      "source": [
        "import numpy as np\n",
        "import pandas as pd\n",
        "from sklearn import tree\n",
        "from sklearn.tree import DecisionTreeClassifier"
      ],
      "execution_count": 90,
      "outputs": []
    },
    {
      "cell_type": "code",
      "metadata": {
        "id": "nw5ZXNh1EKDJ"
      },
      "source": [
        "#baca dataset file ke pandas dataframe\n",
        "DSCustomerChurn = pd.read_csv('customer-churn-data.csv', delimiter=',', header=0)"
      ],
      "execution_count": 91,
      "outputs": []
    },
    {
      "cell_type": "code",
      "metadata": {
        "colab": {
          "base_uri": "https://localhost:8080/"
        },
        "id": "jQxdTGwDEZAD",
        "outputId": "08b37333-69b4-473f-eb16-2e70604226da"
      },
      "source": [
        "print(DSCustomerChurn)"
      ],
      "execution_count": 92,
      "outputs": [
        {
          "output_type": "stream",
          "text": [
            "     Gender  Age PaymentMethod Customer  LastTransaction\n",
            "0      male   64   credit card    loyal               98\n",
            "1      male   35        cheque    churn              118\n",
            "2    female   25   credit card    loyal              107\n",
            "3    female   39   credit card      NaN              177\n",
            "4      male   39   credit card    loyal               90\n",
            "..      ...  ...           ...      ...              ...\n",
            "991  female   29   credit card    loyal               33\n",
            "992    male   84   credit card    loyal              124\n",
            "993    male   20   credit card      NaN               60\n",
            "994    male   19   credit card    loyal               49\n",
            "995  female   24   credit card    loyal               25\n",
            "\n",
            "[996 rows x 5 columns]\n"
          ],
          "name": "stdout"
        }
      ]
    },
    {
      "cell_type": "code",
      "metadata": {
        "colab": {
          "base_uri": "https://localhost:8080/",
          "height": 204
        },
        "id": "4mXb-FgKEf_3",
        "outputId": "0c4a4857-8f9f-465e-d7ee-a99ba264faca"
      },
      "source": [
        "DSCustomerChurn.head()"
      ],
      "execution_count": 93,
      "outputs": [
        {
          "output_type": "execute_result",
          "data": {
            "text/html": [
              "<div>\n",
              "<style scoped>\n",
              "    .dataframe tbody tr th:only-of-type {\n",
              "        vertical-align: middle;\n",
              "    }\n",
              "\n",
              "    .dataframe tbody tr th {\n",
              "        vertical-align: top;\n",
              "    }\n",
              "\n",
              "    .dataframe thead th {\n",
              "        text-align: right;\n",
              "    }\n",
              "</style>\n",
              "<table border=\"1\" class=\"dataframe\">\n",
              "  <thead>\n",
              "    <tr style=\"text-align: right;\">\n",
              "      <th></th>\n",
              "      <th>Gender</th>\n",
              "      <th>Age</th>\n",
              "      <th>PaymentMethod</th>\n",
              "      <th>Customer</th>\n",
              "      <th>LastTransaction</th>\n",
              "    </tr>\n",
              "  </thead>\n",
              "  <tbody>\n",
              "    <tr>\n",
              "      <th>0</th>\n",
              "      <td>male</td>\n",
              "      <td>64</td>\n",
              "      <td>credit card</td>\n",
              "      <td>loyal</td>\n",
              "      <td>98</td>\n",
              "    </tr>\n",
              "    <tr>\n",
              "      <th>1</th>\n",
              "      <td>male</td>\n",
              "      <td>35</td>\n",
              "      <td>cheque</td>\n",
              "      <td>churn</td>\n",
              "      <td>118</td>\n",
              "    </tr>\n",
              "    <tr>\n",
              "      <th>2</th>\n",
              "      <td>female</td>\n",
              "      <td>25</td>\n",
              "      <td>credit card</td>\n",
              "      <td>loyal</td>\n",
              "      <td>107</td>\n",
              "    </tr>\n",
              "    <tr>\n",
              "      <th>3</th>\n",
              "      <td>female</td>\n",
              "      <td>39</td>\n",
              "      <td>credit card</td>\n",
              "      <td>NaN</td>\n",
              "      <td>177</td>\n",
              "    </tr>\n",
              "    <tr>\n",
              "      <th>4</th>\n",
              "      <td>male</td>\n",
              "      <td>39</td>\n",
              "      <td>credit card</td>\n",
              "      <td>loyal</td>\n",
              "      <td>90</td>\n",
              "    </tr>\n",
              "  </tbody>\n",
              "</table>\n",
              "</div>"
            ],
            "text/plain": [
              "   Gender  Age PaymentMethod Customer  LastTransaction\n",
              "0    male   64   credit card    loyal               98\n",
              "1    male   35        cheque    churn              118\n",
              "2  female   25   credit card    loyal              107\n",
              "3  female   39   credit card      NaN              177\n",
              "4    male   39   credit card    loyal               90"
            ]
          },
          "metadata": {
            "tags": []
          },
          "execution_count": 93
        }
      ]
    },
    {
      "cell_type": "code",
      "metadata": {
        "colab": {
          "base_uri": "https://localhost:8080/",
          "height": 204
        },
        "id": "a2hqhOSmEjTf",
        "outputId": "3e7498c5-40af-4a32-f562-369591ccd1b2"
      },
      "source": [
        "#cek NaN / missing value pada setiap kolom\n",
        "DSCustomerChurn.iloc[::4, 0] = np.NaN\n",
        "DSCustomerChurn.iloc[::4, 1] = np.NaN\n",
        "DSCustomerChurn.iloc[::4, 2] = np.NaN\n",
        "DSCustomerChurn.iloc[::4, 3] = np.NaN\n",
        "DSCustomerChurn.iloc[::4, 4] = np.NaN\n",
        "DSCustomerChurn.head()"
      ],
      "execution_count": 94,
      "outputs": [
        {
          "output_type": "execute_result",
          "data": {
            "text/html": [
              "<div>\n",
              "<style scoped>\n",
              "    .dataframe tbody tr th:only-of-type {\n",
              "        vertical-align: middle;\n",
              "    }\n",
              "\n",
              "    .dataframe tbody tr th {\n",
              "        vertical-align: top;\n",
              "    }\n",
              "\n",
              "    .dataframe thead th {\n",
              "        text-align: right;\n",
              "    }\n",
              "</style>\n",
              "<table border=\"1\" class=\"dataframe\">\n",
              "  <thead>\n",
              "    <tr style=\"text-align: right;\">\n",
              "      <th></th>\n",
              "      <th>Gender</th>\n",
              "      <th>Age</th>\n",
              "      <th>PaymentMethod</th>\n",
              "      <th>Customer</th>\n",
              "      <th>LastTransaction</th>\n",
              "    </tr>\n",
              "  </thead>\n",
              "  <tbody>\n",
              "    <tr>\n",
              "      <th>0</th>\n",
              "      <td>NaN</td>\n",
              "      <td>NaN</td>\n",
              "      <td>NaN</td>\n",
              "      <td>NaN</td>\n",
              "      <td>NaN</td>\n",
              "    </tr>\n",
              "    <tr>\n",
              "      <th>1</th>\n",
              "      <td>male</td>\n",
              "      <td>35.0</td>\n",
              "      <td>cheque</td>\n",
              "      <td>churn</td>\n",
              "      <td>118.0</td>\n",
              "    </tr>\n",
              "    <tr>\n",
              "      <th>2</th>\n",
              "      <td>female</td>\n",
              "      <td>25.0</td>\n",
              "      <td>credit card</td>\n",
              "      <td>loyal</td>\n",
              "      <td>107.0</td>\n",
              "    </tr>\n",
              "    <tr>\n",
              "      <th>3</th>\n",
              "      <td>female</td>\n",
              "      <td>39.0</td>\n",
              "      <td>credit card</td>\n",
              "      <td>NaN</td>\n",
              "      <td>177.0</td>\n",
              "    </tr>\n",
              "    <tr>\n",
              "      <th>4</th>\n",
              "      <td>NaN</td>\n",
              "      <td>NaN</td>\n",
              "      <td>NaN</td>\n",
              "      <td>NaN</td>\n",
              "      <td>NaN</td>\n",
              "    </tr>\n",
              "  </tbody>\n",
              "</table>\n",
              "</div>"
            ],
            "text/plain": [
              "   Gender   Age PaymentMethod Customer  LastTransaction\n",
              "0     NaN   NaN           NaN      NaN              NaN\n",
              "1    male  35.0        cheque    churn            118.0\n",
              "2  female  25.0   credit card    loyal            107.0\n",
              "3  female  39.0   credit card      NaN            177.0\n",
              "4     NaN   NaN           NaN      NaN              NaN"
            ]
          },
          "metadata": {
            "tags": []
          },
          "execution_count": 94
        }
      ]
    },
    {
      "cell_type": "code",
      "metadata": {
        "colab": {
          "base_uri": "https://localhost:8080/"
        },
        "id": "10uI_WM_FNPd",
        "outputId": "e3a43061-46f5-4692-df5c-3d470d11071d"
      },
      "source": [
        "len(DSCustomerChurn)"
      ],
      "execution_count": 95,
      "outputs": [
        {
          "output_type": "execute_result",
          "data": {
            "text/plain": [
              "996"
            ]
          },
          "metadata": {
            "tags": []
          },
          "execution_count": 95
        }
      ]
    },
    {
      "cell_type": "code",
      "metadata": {
        "colab": {
          "base_uri": "https://localhost:8080/",
          "height": 204
        },
        "id": "fR9NKkshEnsJ",
        "outputId": "8a29cc53-b5e7-488a-c99f-655aaee040dd"
      },
      "source": [
        "#hapus setiap baris jika ada missing value\n",
        "DSCustomerChurn = DSCustomerChurn.dropna(axis='rows')\n",
        "DSCustomerChurn.head()"
      ],
      "execution_count": 96,
      "outputs": [
        {
          "output_type": "execute_result",
          "data": {
            "text/html": [
              "<div>\n",
              "<style scoped>\n",
              "    .dataframe tbody tr th:only-of-type {\n",
              "        vertical-align: middle;\n",
              "    }\n",
              "\n",
              "    .dataframe tbody tr th {\n",
              "        vertical-align: top;\n",
              "    }\n",
              "\n",
              "    .dataframe thead th {\n",
              "        text-align: right;\n",
              "    }\n",
              "</style>\n",
              "<table border=\"1\" class=\"dataframe\">\n",
              "  <thead>\n",
              "    <tr style=\"text-align: right;\">\n",
              "      <th></th>\n",
              "      <th>Gender</th>\n",
              "      <th>Age</th>\n",
              "      <th>PaymentMethod</th>\n",
              "      <th>Customer</th>\n",
              "      <th>LastTransaction</th>\n",
              "    </tr>\n",
              "  </thead>\n",
              "  <tbody>\n",
              "    <tr>\n",
              "      <th>1</th>\n",
              "      <td>male</td>\n",
              "      <td>35.0</td>\n",
              "      <td>cheque</td>\n",
              "      <td>churn</td>\n",
              "      <td>118.0</td>\n",
              "    </tr>\n",
              "    <tr>\n",
              "      <th>2</th>\n",
              "      <td>female</td>\n",
              "      <td>25.0</td>\n",
              "      <td>credit card</td>\n",
              "      <td>loyal</td>\n",
              "      <td>107.0</td>\n",
              "    </tr>\n",
              "    <tr>\n",
              "      <th>5</th>\n",
              "      <td>female</td>\n",
              "      <td>28.0</td>\n",
              "      <td>cheque</td>\n",
              "      <td>churn</td>\n",
              "      <td>189.0</td>\n",
              "    </tr>\n",
              "    <tr>\n",
              "      <th>6</th>\n",
              "      <td>female</td>\n",
              "      <td>21.0</td>\n",
              "      <td>credit card</td>\n",
              "      <td>loyal</td>\n",
              "      <td>102.0</td>\n",
              "    </tr>\n",
              "    <tr>\n",
              "      <th>7</th>\n",
              "      <td>male</td>\n",
              "      <td>48.0</td>\n",
              "      <td>credit card</td>\n",
              "      <td>loyal</td>\n",
              "      <td>141.0</td>\n",
              "    </tr>\n",
              "  </tbody>\n",
              "</table>\n",
              "</div>"
            ],
            "text/plain": [
              "   Gender   Age PaymentMethod Customer  LastTransaction\n",
              "1    male  35.0        cheque    churn            118.0\n",
              "2  female  25.0   credit card    loyal            107.0\n",
              "5  female  28.0        cheque    churn            189.0\n",
              "6  female  21.0   credit card    loyal            102.0\n",
              "7    male  48.0   credit card    loyal            141.0"
            ]
          },
          "metadata": {
            "tags": []
          },
          "execution_count": 96
        }
      ]
    },
    {
      "cell_type": "code",
      "metadata": {
        "colab": {
          "base_uri": "https://localhost:8080/"
        },
        "id": "lkXV2hs1FUDd",
        "outputId": "4942da59-9363-4e6a-9494-dfe967f41e7d"
      },
      "source": [
        "len(DSCustomerChurn)"
      ],
      "execution_count": 97,
      "outputs": [
        {
          "output_type": "execute_result",
          "data": {
            "text/plain": [
              "672"
            ]
          },
          "metadata": {
            "tags": []
          },
          "execution_count": 97
        }
      ]
    },
    {
      "cell_type": "code",
      "metadata": {
        "colab": {
          "base_uri": "https://localhost:8080/",
          "height": 204
        },
        "id": "J8QZF5RSE840",
        "outputId": "6d2f7886-e46a-4d9c-f106-dd7c3286bc9b"
      },
      "source": [
        "#mengubah kelas (kolom \"Customer, Gender, dan PaymentMethod\") dari string ke unique-integer\n",
        "DSCustomerChurn[\"Customer\"] = pd.factorize(DSCustomerChurn.Customer)[0]\n",
        "DSCustomerChurn[\"Gender\"] = pd.factorize(DSCustomerChurn.Gender)[0]\n",
        "DSCustomerChurn[\"PaymentMethod\"] = pd.factorize(DSCustomerChurn.PaymentMethod)[0]\n",
        "DSCustomerChurn.head()"
      ],
      "execution_count": 98,
      "outputs": [
        {
          "output_type": "execute_result",
          "data": {
            "text/html": [
              "<div>\n",
              "<style scoped>\n",
              "    .dataframe tbody tr th:only-of-type {\n",
              "        vertical-align: middle;\n",
              "    }\n",
              "\n",
              "    .dataframe tbody tr th {\n",
              "        vertical-align: top;\n",
              "    }\n",
              "\n",
              "    .dataframe thead th {\n",
              "        text-align: right;\n",
              "    }\n",
              "</style>\n",
              "<table border=\"1\" class=\"dataframe\">\n",
              "  <thead>\n",
              "    <tr style=\"text-align: right;\">\n",
              "      <th></th>\n",
              "      <th>Gender</th>\n",
              "      <th>Age</th>\n",
              "      <th>PaymentMethod</th>\n",
              "      <th>Customer</th>\n",
              "      <th>LastTransaction</th>\n",
              "    </tr>\n",
              "  </thead>\n",
              "  <tbody>\n",
              "    <tr>\n",
              "      <th>1</th>\n",
              "      <td>0</td>\n",
              "      <td>35.0</td>\n",
              "      <td>0</td>\n",
              "      <td>0</td>\n",
              "      <td>118.0</td>\n",
              "    </tr>\n",
              "    <tr>\n",
              "      <th>2</th>\n",
              "      <td>1</td>\n",
              "      <td>25.0</td>\n",
              "      <td>1</td>\n",
              "      <td>1</td>\n",
              "      <td>107.0</td>\n",
              "    </tr>\n",
              "    <tr>\n",
              "      <th>5</th>\n",
              "      <td>1</td>\n",
              "      <td>28.0</td>\n",
              "      <td>0</td>\n",
              "      <td>0</td>\n",
              "      <td>189.0</td>\n",
              "    </tr>\n",
              "    <tr>\n",
              "      <th>6</th>\n",
              "      <td>1</td>\n",
              "      <td>21.0</td>\n",
              "      <td>1</td>\n",
              "      <td>1</td>\n",
              "      <td>102.0</td>\n",
              "    </tr>\n",
              "    <tr>\n",
              "      <th>7</th>\n",
              "      <td>0</td>\n",
              "      <td>48.0</td>\n",
              "      <td>1</td>\n",
              "      <td>1</td>\n",
              "      <td>141.0</td>\n",
              "    </tr>\n",
              "  </tbody>\n",
              "</table>\n",
              "</div>"
            ],
            "text/plain": [
              "   Gender   Age  PaymentMethod  Customer  LastTransaction\n",
              "1       0  35.0              0         0            118.0\n",
              "2       1  25.0              1         1            107.0\n",
              "5       1  28.0              0         0            189.0\n",
              "6       1  21.0              1         1            102.0\n",
              "7       0  48.0              1         1            141.0"
            ]
          },
          "metadata": {
            "tags": []
          },
          "execution_count": 98
        }
      ]
    },
    {
      "cell_type": "code",
      "metadata": {
        "colab": {
          "base_uri": "https://localhost:8080/"
        },
        "id": "81B7kL3iFY9N",
        "outputId": "6ab40185-cfa5-4faf-fcfb-3a2524cd7f10"
      },
      "source": [
        "len(DSCustomerChurn)"
      ],
      "execution_count": 99,
      "outputs": [
        {
          "output_type": "execute_result",
          "data": {
            "text/plain": [
              "672"
            ]
          },
          "metadata": {
            "tags": []
          },
          "execution_count": 99
        }
      ]
    },
    {
      "cell_type": "code",
      "metadata": {
        "id": "2lSWURT7Fmil"
      },
      "source": [
        "#hapus kolom customer sebagai feature\n",
        "DSCustomerChurnTC = DSCustomerChurn.drop(labels='Customer', axis='columns')\n",
        "#ubah dataframe ke array numpy\n",
        "DSCustomerChurnTC = DSCustomerChurnTC.to_numpy()\n",
        "#ubah dataframe ke array numpy\n",
        "DSCustomerChurn = DSCustomerChurn.to_numpy()"
      ],
      "execution_count": 100,
      "outputs": []
    },
    {
      "cell_type": "code",
      "metadata": {
        "colab": {
          "base_uri": "https://localhost:8080/"
        },
        "id": "80RNnnANGLOm",
        "outputId": "87b6135f-8779-4286-ef11-38e924f7a515"
      },
      "source": [
        "#array numpy (Gender, Age, PaymentMethod, LastTransaction)\n",
        "print(DSCustomerChurnTC)\n",
        "len(DSCustomerChurnTC)"
      ],
      "execution_count": 101,
      "outputs": [
        {
          "output_type": "stream",
          "text": [
            "[[  0.  35.   0. 118.]\n",
            " [  1.  25.   1. 107.]\n",
            " [  1.  28.   0. 189.]\n",
            " ...\n",
            " [  1.  29.   1.  33.]\n",
            " [  0.  19.   1.  49.]\n",
            " [  1.  24.   1.  25.]]\n"
          ],
          "name": "stdout"
        },
        {
          "output_type": "execute_result",
          "data": {
            "text/plain": [
              "672"
            ]
          },
          "metadata": {
            "tags": []
          },
          "execution_count": 101
        }
      ]
    },
    {
      "cell_type": "code",
      "metadata": {
        "colab": {
          "base_uri": "https://localhost:8080/"
        },
        "id": "21_h2ULIGfMN",
        "outputId": "9f08e6f9-2cf1-472b-88d1-bf16a38111da"
      },
      "source": [
        "#array numpy (Gender, Age, PaymentMethod, Customer, LastTransaction)\n",
        "print(DSCustomerChurn)\n",
        "len(DSCustomerChurn)"
      ],
      "execution_count": 102,
      "outputs": [
        {
          "output_type": "stream",
          "text": [
            "[[  0.  35.   0.   0. 118.]\n",
            " [  1.  25.   1.   1. 107.]\n",
            " [  1.  28.   0.   0. 189.]\n",
            " ...\n",
            " [  1.  29.   1.   1.  33.]\n",
            " [  0.  19.   1.   1.  49.]\n",
            " [  1.  24.   1.   1.  25.]]\n"
          ],
          "name": "stdout"
        },
        {
          "output_type": "execute_result",
          "data": {
            "text/plain": [
              "672"
            ]
          },
          "metadata": {
            "tags": []
          },
          "execution_count": 102
        }
      ]
    },
    {
      "cell_type": "code",
      "metadata": {
        "id": "oAqTpV_MG2zt"
      },
      "source": [
        "#Dataset = 400 training dan 200 testing\n",
        "#tanpa customer\n",
        "dataTraining = np.concatenate((DSCustomerChurnTC[0:100, :], DSCustomerChurnTC[100:400, :]), axis=0)\n",
        "dataTesting = np.concatenate((DSCustomerChurnTC[400:500 ,:], DSCustomerChurnTC[500:600, :]), axis=0)\n",
        "#dengan customer\n",
        "dataTrainingL = np.concatenate((DSCustomerChurn[0:100, :], DSCustomerChurn[100:400, :]), axis=0)\n",
        "dataTestingL = np.concatenate((DSCustomerChurn[400:500 ,:], DSCustomerChurn[500:600, :]), axis=0)"
      ],
      "execution_count": 103,
      "outputs": []
    },
    {
      "cell_type": "code",
      "metadata": {
        "colab": {
          "base_uri": "https://localhost:8080/"
        },
        "id": "MoI1Gbm2HDoH",
        "outputId": "c57f593a-e1d3-4df5-bc0e-e3bb88e6f7be"
      },
      "source": [
        "len(dataTraining)"
      ],
      "execution_count": 104,
      "outputs": [
        {
          "output_type": "execute_result",
          "data": {
            "text/plain": [
              "400"
            ]
          },
          "metadata": {
            "tags": []
          },
          "execution_count": 104
        }
      ]
    },
    {
      "cell_type": "code",
      "metadata": {
        "colab": {
          "base_uri": "https://localhost:8080/"
        },
        "id": "JhcA839UHLBD",
        "outputId": "acc55cd6-a678-4b6d-d2f4-9b329a713b43"
      },
      "source": [
        "len(dataTesting)"
      ],
      "execution_count": 105,
      "outputs": [
        {
          "output_type": "execute_result",
          "data": {
            "text/plain": [
              "200"
            ]
          },
          "metadata": {
            "tags": []
          },
          "execution_count": 105
        }
      ]
    },
    {
      "cell_type": "code",
      "metadata": {
        "colab": {
          "base_uri": "https://localhost:8080/"
        },
        "id": "hrbBadtmHdkO",
        "outputId": "1d72b10b-19d1-43ed-a670-9d1e35d36319"
      },
      "source": [
        "len(dataTrainingL)"
      ],
      "execution_count": 106,
      "outputs": [
        {
          "output_type": "execute_result",
          "data": {
            "text/plain": [
              "400"
            ]
          },
          "metadata": {
            "tags": []
          },
          "execution_count": 106
        }
      ]
    },
    {
      "cell_type": "code",
      "metadata": {
        "colab": {
          "base_uri": "https://localhost:8080/"
        },
        "id": "QHJ4wNbLHaYB",
        "outputId": "4e3440fc-5f40-4ce9-8484-43f0271cea70"
      },
      "source": [
        "len(dataTestingL)"
      ],
      "execution_count": 107,
      "outputs": [
        {
          "output_type": "execute_result",
          "data": {
            "text/plain": [
              "200"
            ]
          },
          "metadata": {
            "tags": []
          },
          "execution_count": 107
        }
      ]
    },
    {
      "cell_type": "code",
      "metadata": {
        "id": "x7lk-09zHnpR"
      },
      "source": [
        "model = tree.DecisionTreeClassifier()"
      ],
      "execution_count": null,
      "outputs": []
    },
    {
      "cell_type": "code",
      "metadata": {
        "id": "36wTycniHsav"
      },
      "source": [
        "#tanpa customer\n",
        "inputTraining = dataTraining[:, 0:4]\n",
        "inputTesting = dataTesting[:, 0:4]\n",
        "#hanya customer\n",
        "labelTraining = dataTrainingL[:, 3]\n",
        "labelTesting = dataTestingL[:, 3]"
      ],
      "execution_count": null,
      "outputs": []
    },
    {
      "cell_type": "code",
      "metadata": {
        "id": "ml3ZvyV8IPg6"
      },
      "source": [
        "print(inputTraining)\n",
        "len(inputTraining)"
      ],
      "execution_count": null,
      "outputs": []
    },
    {
      "cell_type": "code",
      "metadata": {
        "id": "chqM0jDkIW-X"
      },
      "source": [
        "print(inputTestingg)\n",
        "len(inputTestingg)"
      ],
      "execution_count": null,
      "outputs": []
    },
    {
      "cell_type": "code",
      "metadata": {
        "id": "xTR3Jv_IIdrU"
      },
      "source": [
        "print(labelTraining)\n",
        "len(labelTraining)"
      ],
      "execution_count": null,
      "outputs": []
    },
    {
      "cell_type": "code",
      "metadata": {
        "id": "1Dc9oyopIe9J"
      },
      "source": [
        "print(labelTesting)\n",
        "len(labelTesting)"
      ],
      "execution_count": null,
      "outputs": []
    },
    {
      "cell_type": "code",
      "metadata": {
        "id": "RMZJx-97Ilm0"
      },
      "source": [
        "#training model\n",
        "model = model.fit(inputTraining, labelTraining)"
      ],
      "execution_count": null,
      "outputs": []
    },
    {
      "cell_type": "code",
      "metadata": {
        "id": "5FRnNHEfItB5"
      },
      "source": [
        "#prediksi input data testing\n",
        "hasilPrediksi = model.predict(inputTesting)\n",
        "print(\"Label Sebenarnya: \", labelTesting)\n",
        "print(\"Hasil Prediksi: \", hasilPrediksi)"
      ],
      "execution_count": null,
      "outputs": []
    },
    {
      "cell_type": "code",
      "metadata": {
        "id": "vvRNHlkcI0Nt"
      },
      "source": [
        "#hitung akurasi\n",
        "PrediksiBenar = (hasilPrediksi == labelTesting).sum()\n",
        "PrediksiSalah = (hasilPrediksi != labelTesting).sum()\n",
        "print(\"Prediksi Benar: \", PrediksiBenar, \"data\")\n",
        "print(\"Prediksi Salah: \", PrediksiSalah, \"data\")\n",
        "print(\"Akurasi: \", PrediksiBenar/(PrediksiBenar+PrediksiSalah)*100, \"%\")"
      ],
      "execution_count": null,
      "outputs": []
    },
    {
      "cell_type": "code",
      "metadata": {
        "id": "xJqs8imCI10J"
      },
      "source": [
        "#Gambar Decision Tree\n",
        "from sklearn.externals.six import StringIO\n",
        "import pydotplus\n",
        "from sklearn. tree import export_graphviz\n",
        "from IPython.display import Image\n",
        "dot_data = StringIO()\n",
        "export_graphviz(model, out_file=dot_data, filled=True, rounded=True, special_characters=True, feature_names=(['Gender', 'Age', 'PaymentMethod', 'LastTransaction']), class_names=(['Churn', 'Loyal']), max_depth=5)\n",
        "graph = pydotplus.graph_from_dot_data(dot_data.getvalue())\n",
        "graph.write_png('tree2.png')"
      ],
      "execution_count": null,
      "outputs": []
    },
    {
      "cell_type": "code",
      "metadata": {
        "id": "qy8BvjsSI9eD"
      },
      "source": [
        "#Export Text Tree\n",
        "text_representation = tree.export_text(model, feature_names=['Gender', 'Age', 'PaymentMethod', 'LastTransaction'])\n",
        "print(text_representation)"
      ],
      "execution_count": null,
      "outputs": []
    }
  ]
}