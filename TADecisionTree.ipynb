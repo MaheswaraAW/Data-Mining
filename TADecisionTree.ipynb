{
  "nbformat": 4,
  "nbformat_minor": 0,
  "metadata": {
    "colab": {
      "name": "TADecisionTree.ipynb",
      "provenance": [],
      "collapsed_sections": [],
      "authorship_tag": "ABX9TyOforew6Mw35J3zuVyIcFo6",
      "include_colab_link": true
    },
    "kernelspec": {
      "name": "python3",
      "display_name": "Python 3"
    },
    "language_info": {
      "name": "python"
    }
  },
  "cells": [
    {
      "cell_type": "markdown",
      "metadata": {
        "id": "view-in-github",
        "colab_type": "text"
      },
      "source": [
        "<a href=\"https://colab.research.google.com/github/MaheswaraAW/Data-Mining/blob/main/TADecisionTree.ipynb\" target=\"_parent\"><img src=\"https://colab.research.google.com/assets/colab-badge.svg\" alt=\"Open In Colab\"/></a>"
      ]
    },
    {
      "cell_type": "code",
      "metadata": {
        "id": "iXqdL6qWD_eY"
      },
      "source": [
        "import numpy as np\n",
        "import pandas as pd\n",
        "from sklearn import tree\n",
        "from sklearn.tree import DecisionTreeClassifier"
      ],
      "execution_count": 3,
      "outputs": []
    },
    {
      "cell_type": "code",
      "metadata": {
        "id": "nw5ZXNh1EKDJ"
      },
      "source": [
        "#baca dataset file ke pandas dataframe\n",
        "DSCustomerChurn = pd.read_csv('customer-churn-data.csv', delimiter=',', header=0)"
      ],
      "execution_count": 4,
      "outputs": []
    },
    {
      "cell_type": "code",
      "metadata": {
        "colab": {
          "base_uri": "https://localhost:8080/"
        },
        "id": "jQxdTGwDEZAD",
        "outputId": "790f7559-2180-405a-a7d8-cbb0689f3063"
      },
      "source": [
        "print(DSCustomerChurn)"
      ],
      "execution_count": 5,
      "outputs": [
        {
          "output_type": "stream",
          "text": [
            "     Gender  Age PaymentMethod Customer  LastTransaction\n",
            "0      male   64   credit card    loyal               98\n",
            "1      male   35        cheque    churn              118\n",
            "2    female   25   credit card    loyal              107\n",
            "3    female   39   credit card      NaN              177\n",
            "4      male   39   credit card    loyal               90\n",
            "..      ...  ...           ...      ...              ...\n",
            "991  female   29   credit card    loyal               33\n",
            "992    male   84   credit card    loyal              124\n",
            "993    male   20   credit card      NaN               60\n",
            "994    male   19   credit card    loyal               49\n",
            "995  female   24   credit card    loyal               25\n",
            "\n",
            "[996 rows x 5 columns]\n"
          ],
          "name": "stdout"
        }
      ]
    },
    {
      "cell_type": "code",
      "metadata": {
        "colab": {
          "base_uri": "https://localhost:8080/",
          "height": 204
        },
        "id": "4mXb-FgKEf_3",
        "outputId": "db4f0075-9e6c-4136-9272-e04627c42567"
      },
      "source": [
        "DSCustomerChurn.head()"
      ],
      "execution_count": 6,
      "outputs": [
        {
          "output_type": "execute_result",
          "data": {
            "text/html": [
              "<div>\n",
              "<style scoped>\n",
              "    .dataframe tbody tr th:only-of-type {\n",
              "        vertical-align: middle;\n",
              "    }\n",
              "\n",
              "    .dataframe tbody tr th {\n",
              "        vertical-align: top;\n",
              "    }\n",
              "\n",
              "    .dataframe thead th {\n",
              "        text-align: right;\n",
              "    }\n",
              "</style>\n",
              "<table border=\"1\" class=\"dataframe\">\n",
              "  <thead>\n",
              "    <tr style=\"text-align: right;\">\n",
              "      <th></th>\n",
              "      <th>Gender</th>\n",
              "      <th>Age</th>\n",
              "      <th>PaymentMethod</th>\n",
              "      <th>Customer</th>\n",
              "      <th>LastTransaction</th>\n",
              "    </tr>\n",
              "  </thead>\n",
              "  <tbody>\n",
              "    <tr>\n",
              "      <th>0</th>\n",
              "      <td>male</td>\n",
              "      <td>64</td>\n",
              "      <td>credit card</td>\n",
              "      <td>loyal</td>\n",
              "      <td>98</td>\n",
              "    </tr>\n",
              "    <tr>\n",
              "      <th>1</th>\n",
              "      <td>male</td>\n",
              "      <td>35</td>\n",
              "      <td>cheque</td>\n",
              "      <td>churn</td>\n",
              "      <td>118</td>\n",
              "    </tr>\n",
              "    <tr>\n",
              "      <th>2</th>\n",
              "      <td>female</td>\n",
              "      <td>25</td>\n",
              "      <td>credit card</td>\n",
              "      <td>loyal</td>\n",
              "      <td>107</td>\n",
              "    </tr>\n",
              "    <tr>\n",
              "      <th>3</th>\n",
              "      <td>female</td>\n",
              "      <td>39</td>\n",
              "      <td>credit card</td>\n",
              "      <td>NaN</td>\n",
              "      <td>177</td>\n",
              "    </tr>\n",
              "    <tr>\n",
              "      <th>4</th>\n",
              "      <td>male</td>\n",
              "      <td>39</td>\n",
              "      <td>credit card</td>\n",
              "      <td>loyal</td>\n",
              "      <td>90</td>\n",
              "    </tr>\n",
              "  </tbody>\n",
              "</table>\n",
              "</div>"
            ],
            "text/plain": [
              "   Gender  Age PaymentMethod Customer  LastTransaction\n",
              "0    male   64   credit card    loyal               98\n",
              "1    male   35        cheque    churn              118\n",
              "2  female   25   credit card    loyal              107\n",
              "3  female   39   credit card      NaN              177\n",
              "4    male   39   credit card    loyal               90"
            ]
          },
          "metadata": {
            "tags": []
          },
          "execution_count": 6
        }
      ]
    },
    {
      "cell_type": "code",
      "metadata": {
        "colab": {
          "base_uri": "https://localhost:8080/",
          "height": 204
        },
        "id": "a2hqhOSmEjTf",
        "outputId": "4825670c-0f10-476d-cb13-d1f002fca324"
      },
      "source": [
        "#cek NaN / missing value pada setiap kolom\n",
        "DSCustomerChurn.iloc[::4, 0] = np.NaN\n",
        "DSCustomerChurn.iloc[::4, 1] = np.NaN\n",
        "DSCustomerChurn.iloc[::4, 2] = np.NaN\n",
        "DSCustomerChurn.iloc[::4, 3] = np.NaN\n",
        "DSCustomerChurn.iloc[::4, 4] = np.NaN\n",
        "DSCustomerChurn.head()"
      ],
      "execution_count": 7,
      "outputs": [
        {
          "output_type": "execute_result",
          "data": {
            "text/html": [
              "<div>\n",
              "<style scoped>\n",
              "    .dataframe tbody tr th:only-of-type {\n",
              "        vertical-align: middle;\n",
              "    }\n",
              "\n",
              "    .dataframe tbody tr th {\n",
              "        vertical-align: top;\n",
              "    }\n",
              "\n",
              "    .dataframe thead th {\n",
              "        text-align: right;\n",
              "    }\n",
              "</style>\n",
              "<table border=\"1\" class=\"dataframe\">\n",
              "  <thead>\n",
              "    <tr style=\"text-align: right;\">\n",
              "      <th></th>\n",
              "      <th>Gender</th>\n",
              "      <th>Age</th>\n",
              "      <th>PaymentMethod</th>\n",
              "      <th>Customer</th>\n",
              "      <th>LastTransaction</th>\n",
              "    </tr>\n",
              "  </thead>\n",
              "  <tbody>\n",
              "    <tr>\n",
              "      <th>0</th>\n",
              "      <td>NaN</td>\n",
              "      <td>NaN</td>\n",
              "      <td>NaN</td>\n",
              "      <td>NaN</td>\n",
              "      <td>NaN</td>\n",
              "    </tr>\n",
              "    <tr>\n",
              "      <th>1</th>\n",
              "      <td>male</td>\n",
              "      <td>35.0</td>\n",
              "      <td>cheque</td>\n",
              "      <td>churn</td>\n",
              "      <td>118.0</td>\n",
              "    </tr>\n",
              "    <tr>\n",
              "      <th>2</th>\n",
              "      <td>female</td>\n",
              "      <td>25.0</td>\n",
              "      <td>credit card</td>\n",
              "      <td>loyal</td>\n",
              "      <td>107.0</td>\n",
              "    </tr>\n",
              "    <tr>\n",
              "      <th>3</th>\n",
              "      <td>female</td>\n",
              "      <td>39.0</td>\n",
              "      <td>credit card</td>\n",
              "      <td>NaN</td>\n",
              "      <td>177.0</td>\n",
              "    </tr>\n",
              "    <tr>\n",
              "      <th>4</th>\n",
              "      <td>NaN</td>\n",
              "      <td>NaN</td>\n",
              "      <td>NaN</td>\n",
              "      <td>NaN</td>\n",
              "      <td>NaN</td>\n",
              "    </tr>\n",
              "  </tbody>\n",
              "</table>\n",
              "</div>"
            ],
            "text/plain": [
              "   Gender   Age PaymentMethod Customer  LastTransaction\n",
              "0     NaN   NaN           NaN      NaN              NaN\n",
              "1    male  35.0        cheque    churn            118.0\n",
              "2  female  25.0   credit card    loyal            107.0\n",
              "3  female  39.0   credit card      NaN            177.0\n",
              "4     NaN   NaN           NaN      NaN              NaN"
            ]
          },
          "metadata": {
            "tags": []
          },
          "execution_count": 7
        }
      ]
    },
    {
      "cell_type": "code",
      "metadata": {
        "colab": {
          "base_uri": "https://localhost:8080/"
        },
        "id": "10uI_WM_FNPd",
        "outputId": "58e08694-caae-4d7a-dfc4-54dcfc3a3091"
      },
      "source": [
        "len(DSCustomerChurn)"
      ],
      "execution_count": 8,
      "outputs": [
        {
          "output_type": "execute_result",
          "data": {
            "text/plain": [
              "996"
            ]
          },
          "metadata": {
            "tags": []
          },
          "execution_count": 8
        }
      ]
    },
    {
      "cell_type": "code",
      "metadata": {
        "colab": {
          "base_uri": "https://localhost:8080/",
          "height": 204
        },
        "id": "fR9NKkshEnsJ",
        "outputId": "e17b2ccc-8b2e-4969-fd34-901179c61a6b"
      },
      "source": [
        "#hapus setiap baris jika ada missing value\n",
        "DSCustomerChurn = DSCustomerChurn.dropna(axis='rows')\n",
        "DSCustomerChurn.head()"
      ],
      "execution_count": 9,
      "outputs": [
        {
          "output_type": "execute_result",
          "data": {
            "text/html": [
              "<div>\n",
              "<style scoped>\n",
              "    .dataframe tbody tr th:only-of-type {\n",
              "        vertical-align: middle;\n",
              "    }\n",
              "\n",
              "    .dataframe tbody tr th {\n",
              "        vertical-align: top;\n",
              "    }\n",
              "\n",
              "    .dataframe thead th {\n",
              "        text-align: right;\n",
              "    }\n",
              "</style>\n",
              "<table border=\"1\" class=\"dataframe\">\n",
              "  <thead>\n",
              "    <tr style=\"text-align: right;\">\n",
              "      <th></th>\n",
              "      <th>Gender</th>\n",
              "      <th>Age</th>\n",
              "      <th>PaymentMethod</th>\n",
              "      <th>Customer</th>\n",
              "      <th>LastTransaction</th>\n",
              "    </tr>\n",
              "  </thead>\n",
              "  <tbody>\n",
              "    <tr>\n",
              "      <th>1</th>\n",
              "      <td>male</td>\n",
              "      <td>35.0</td>\n",
              "      <td>cheque</td>\n",
              "      <td>churn</td>\n",
              "      <td>118.0</td>\n",
              "    </tr>\n",
              "    <tr>\n",
              "      <th>2</th>\n",
              "      <td>female</td>\n",
              "      <td>25.0</td>\n",
              "      <td>credit card</td>\n",
              "      <td>loyal</td>\n",
              "      <td>107.0</td>\n",
              "    </tr>\n",
              "    <tr>\n",
              "      <th>5</th>\n",
              "      <td>female</td>\n",
              "      <td>28.0</td>\n",
              "      <td>cheque</td>\n",
              "      <td>churn</td>\n",
              "      <td>189.0</td>\n",
              "    </tr>\n",
              "    <tr>\n",
              "      <th>6</th>\n",
              "      <td>female</td>\n",
              "      <td>21.0</td>\n",
              "      <td>credit card</td>\n",
              "      <td>loyal</td>\n",
              "      <td>102.0</td>\n",
              "    </tr>\n",
              "    <tr>\n",
              "      <th>7</th>\n",
              "      <td>male</td>\n",
              "      <td>48.0</td>\n",
              "      <td>credit card</td>\n",
              "      <td>loyal</td>\n",
              "      <td>141.0</td>\n",
              "    </tr>\n",
              "  </tbody>\n",
              "</table>\n",
              "</div>"
            ],
            "text/plain": [
              "   Gender   Age PaymentMethod Customer  LastTransaction\n",
              "1    male  35.0        cheque    churn            118.0\n",
              "2  female  25.0   credit card    loyal            107.0\n",
              "5  female  28.0        cheque    churn            189.0\n",
              "6  female  21.0   credit card    loyal            102.0\n",
              "7    male  48.0   credit card    loyal            141.0"
            ]
          },
          "metadata": {
            "tags": []
          },
          "execution_count": 9
        }
      ]
    },
    {
      "cell_type": "code",
      "metadata": {
        "colab": {
          "base_uri": "https://localhost:8080/"
        },
        "id": "lkXV2hs1FUDd",
        "outputId": "7dc8aee8-8eea-4ede-f9cd-602795bd10b4"
      },
      "source": [
        "len(DSCustomerChurn)"
      ],
      "execution_count": 10,
      "outputs": [
        {
          "output_type": "execute_result",
          "data": {
            "text/plain": [
              "672"
            ]
          },
          "metadata": {
            "tags": []
          },
          "execution_count": 10
        }
      ]
    },
    {
      "cell_type": "code",
      "metadata": {
        "colab": {
          "base_uri": "https://localhost:8080/",
          "height": 204
        },
        "id": "J8QZF5RSE840",
        "outputId": "3a26a5aa-9343-4820-f4ce-fc16daf6c71a"
      },
      "source": [
        "#mengubah kelas (kolom \"Customer, Gender, dan PaymentMethod\") dari string ke unique-integer\n",
        "DSCustomerChurn[\"Customer\"] = pd.factorize(DSCustomerChurn.Customer)[0]\n",
        "DSCustomerChurn[\"Gender\"] = pd.factorize(DSCustomerChurn.Gender)[0]\n",
        "DSCustomerChurn[\"PaymentMethod\"] = pd.factorize(DSCustomerChurn.PaymentMethod)[0]\n",
        "DSCustomerChurn.head()"
      ],
      "execution_count": 11,
      "outputs": [
        {
          "output_type": "execute_result",
          "data": {
            "text/html": [
              "<div>\n",
              "<style scoped>\n",
              "    .dataframe tbody tr th:only-of-type {\n",
              "        vertical-align: middle;\n",
              "    }\n",
              "\n",
              "    .dataframe tbody tr th {\n",
              "        vertical-align: top;\n",
              "    }\n",
              "\n",
              "    .dataframe thead th {\n",
              "        text-align: right;\n",
              "    }\n",
              "</style>\n",
              "<table border=\"1\" class=\"dataframe\">\n",
              "  <thead>\n",
              "    <tr style=\"text-align: right;\">\n",
              "      <th></th>\n",
              "      <th>Gender</th>\n",
              "      <th>Age</th>\n",
              "      <th>PaymentMethod</th>\n",
              "      <th>Customer</th>\n",
              "      <th>LastTransaction</th>\n",
              "    </tr>\n",
              "  </thead>\n",
              "  <tbody>\n",
              "    <tr>\n",
              "      <th>1</th>\n",
              "      <td>0</td>\n",
              "      <td>35.0</td>\n",
              "      <td>0</td>\n",
              "      <td>0</td>\n",
              "      <td>118.0</td>\n",
              "    </tr>\n",
              "    <tr>\n",
              "      <th>2</th>\n",
              "      <td>1</td>\n",
              "      <td>25.0</td>\n",
              "      <td>1</td>\n",
              "      <td>1</td>\n",
              "      <td>107.0</td>\n",
              "    </tr>\n",
              "    <tr>\n",
              "      <th>5</th>\n",
              "      <td>1</td>\n",
              "      <td>28.0</td>\n",
              "      <td>0</td>\n",
              "      <td>0</td>\n",
              "      <td>189.0</td>\n",
              "    </tr>\n",
              "    <tr>\n",
              "      <th>6</th>\n",
              "      <td>1</td>\n",
              "      <td>21.0</td>\n",
              "      <td>1</td>\n",
              "      <td>1</td>\n",
              "      <td>102.0</td>\n",
              "    </tr>\n",
              "    <tr>\n",
              "      <th>7</th>\n",
              "      <td>0</td>\n",
              "      <td>48.0</td>\n",
              "      <td>1</td>\n",
              "      <td>1</td>\n",
              "      <td>141.0</td>\n",
              "    </tr>\n",
              "  </tbody>\n",
              "</table>\n",
              "</div>"
            ],
            "text/plain": [
              "   Gender   Age  PaymentMethod  Customer  LastTransaction\n",
              "1       0  35.0              0         0            118.0\n",
              "2       1  25.0              1         1            107.0\n",
              "5       1  28.0              0         0            189.0\n",
              "6       1  21.0              1         1            102.0\n",
              "7       0  48.0              1         1            141.0"
            ]
          },
          "metadata": {
            "tags": []
          },
          "execution_count": 11
        }
      ]
    },
    {
      "cell_type": "code",
      "metadata": {
        "colab": {
          "base_uri": "https://localhost:8080/"
        },
        "id": "81B7kL3iFY9N",
        "outputId": "10ca02fc-2566-4739-c506-7390cbd98e51"
      },
      "source": [
        "len(DSCustomerChurn)"
      ],
      "execution_count": 12,
      "outputs": [
        {
          "output_type": "execute_result",
          "data": {
            "text/plain": [
              "672"
            ]
          },
          "metadata": {
            "tags": []
          },
          "execution_count": 12
        }
      ]
    },
    {
      "cell_type": "code",
      "metadata": {
        "id": "2lSWURT7Fmil"
      },
      "source": [
        "#hapus kolom customer sebagai feature\n",
        "DSCustomerChurnTC = DSCustomerChurn.drop(labels='Customer', axis='columns')\n",
        "#ubah dataframe ke array numpy\n",
        "DSCustomerChurnTC = DSCustomerChurnTC.to_numpy()\n",
        "#ubah dataframe ke array numpy\n",
        "DSCustomerChurn = DSCustomerChurn.to_numpy()"
      ],
      "execution_count": 13,
      "outputs": []
    },
    {
      "cell_type": "code",
      "metadata": {
        "colab": {
          "base_uri": "https://localhost:8080/"
        },
        "id": "80RNnnANGLOm",
        "outputId": "45481a30-9f05-4ad7-8ad8-ca547860d394"
      },
      "source": [
        "#array numpy (Gender, Age, PaymentMethod, LastTransaction)\n",
        "print(DSCustomerChurnTC)\n",
        "len(DSCustomerChurnTC)"
      ],
      "execution_count": 14,
      "outputs": [
        {
          "output_type": "stream",
          "text": [
            "[[  0.  35.   0. 118.]\n",
            " [  1.  25.   1. 107.]\n",
            " [  1.  28.   0. 189.]\n",
            " ...\n",
            " [  1.  29.   1.  33.]\n",
            " [  0.  19.   1.  49.]\n",
            " [  1.  24.   1.  25.]]\n"
          ],
          "name": "stdout"
        },
        {
          "output_type": "execute_result",
          "data": {
            "text/plain": [
              "672"
            ]
          },
          "metadata": {
            "tags": []
          },
          "execution_count": 14
        }
      ]
    },
    {
      "cell_type": "code",
      "metadata": {
        "colab": {
          "base_uri": "https://localhost:8080/"
        },
        "id": "21_h2ULIGfMN",
        "outputId": "3334d9f8-77fb-4ebe-fef4-17b8044cc5d2"
      },
      "source": [
        "#array numpy (Gender, Age, PaymentMethod, Customer, LastTransaction)\n",
        "print(DSCustomerChurn)\n",
        "len(DSCustomerChurn)"
      ],
      "execution_count": 15,
      "outputs": [
        {
          "output_type": "stream",
          "text": [
            "[[  0.  35.   0.   0. 118.]\n",
            " [  1.  25.   1.   1. 107.]\n",
            " [  1.  28.   0.   0. 189.]\n",
            " ...\n",
            " [  1.  29.   1.   1.  33.]\n",
            " [  0.  19.   1.   1.  49.]\n",
            " [  1.  24.   1.   1.  25.]]\n"
          ],
          "name": "stdout"
        },
        {
          "output_type": "execute_result",
          "data": {
            "text/plain": [
              "672"
            ]
          },
          "metadata": {
            "tags": []
          },
          "execution_count": 15
        }
      ]
    },
    {
      "cell_type": "code",
      "metadata": {
        "id": "oAqTpV_MG2zt"
      },
      "source": [
        "#Dataset = 400 training dan 200 testing\n",
        "#tanpa customer\n",
        "dataTraining = np.concatenate((DSCustomerChurnTC[0:100, :], DSCustomerChurnTC[100:400, :]), axis=0)\n",
        "dataTesting = np.concatenate((DSCustomerChurnTC[400:500 ,:], DSCustomerChurnTC[500:600, :]), axis=0)\n",
        "#dengan customer\n",
        "dataTrainingL = np.concatenate((DSCustomerChurn[0:100, :], DSCustomerChurn[100:400, :]), axis=0)\n",
        "dataTestingL = np.concatenate((DSCustomerChurn[400:500 ,:], DSCustomerChurn[500:600, :]), axis=0)"
      ],
      "execution_count": 16,
      "outputs": []
    },
    {
      "cell_type": "code",
      "metadata": {
        "colab": {
          "base_uri": "https://localhost:8080/"
        },
        "id": "MoI1Gbm2HDoH",
        "outputId": "54e78607-f229-4a39-85a9-45e300eef48f"
      },
      "source": [
        "len(dataTraining)"
      ],
      "execution_count": 17,
      "outputs": [
        {
          "output_type": "execute_result",
          "data": {
            "text/plain": [
              "400"
            ]
          },
          "metadata": {
            "tags": []
          },
          "execution_count": 17
        }
      ]
    },
    {
      "cell_type": "code",
      "metadata": {
        "colab": {
          "base_uri": "https://localhost:8080/"
        },
        "id": "JhcA839UHLBD",
        "outputId": "d051e6eb-1ea7-4260-9774-d0237a40bdc9"
      },
      "source": [
        "len(dataTesting)"
      ],
      "execution_count": 18,
      "outputs": [
        {
          "output_type": "execute_result",
          "data": {
            "text/plain": [
              "200"
            ]
          },
          "metadata": {
            "tags": []
          },
          "execution_count": 18
        }
      ]
    },
    {
      "cell_type": "code",
      "metadata": {
        "colab": {
          "base_uri": "https://localhost:8080/"
        },
        "id": "hrbBadtmHdkO",
        "outputId": "86cfd4ac-1626-4576-c1a0-3ad03b2f6cf3"
      },
      "source": [
        "len(dataTrainingL)"
      ],
      "execution_count": 19,
      "outputs": [
        {
          "output_type": "execute_result",
          "data": {
            "text/plain": [
              "400"
            ]
          },
          "metadata": {
            "tags": []
          },
          "execution_count": 19
        }
      ]
    },
    {
      "cell_type": "code",
      "metadata": {
        "colab": {
          "base_uri": "https://localhost:8080/"
        },
        "id": "QHJ4wNbLHaYB",
        "outputId": "4d79f8a6-5014-4194-b694-16a9efbf06d1"
      },
      "source": [
        "len(dataTestingL)"
      ],
      "execution_count": 20,
      "outputs": [
        {
          "output_type": "execute_result",
          "data": {
            "text/plain": [
              "200"
            ]
          },
          "metadata": {
            "tags": []
          },
          "execution_count": 20
        }
      ]
    },
    {
      "cell_type": "code",
      "metadata": {
        "id": "x7lk-09zHnpR"
      },
      "source": [
        "model = tree.DecisionTreeClassifier()"
      ],
      "execution_count": 21,
      "outputs": []
    },
    {
      "cell_type": "code",
      "metadata": {
        "id": "36wTycniHsav"
      },
      "source": [
        "#tanpa customer (Gender, Age, PaymentMethod, dan LastTransaction)\n",
        "inputTraining = dataTraining[:, 0:4]\n",
        "inputTesting = dataTesting[:, 0:4]\n",
        "#hanya customer\n",
        "labelTraining = dataTrainingL[:, 3]\n",
        "labelTesting = dataTestingL[:, 3]"
      ],
      "execution_count": 22,
      "outputs": []
    },
    {
      "cell_type": "code",
      "metadata": {
        "colab": {
          "base_uri": "https://localhost:8080/"
        },
        "id": "ml3ZvyV8IPg6",
        "outputId": "39873d8b-18c7-482f-a44d-48d61e009959"
      },
      "source": [
        "print(inputTraining)\n",
        "len(inputTraining)"
      ],
      "execution_count": 23,
      "outputs": [
        {
          "output_type": "stream",
          "text": [
            "[[  0.  35.   0. 118.]\n",
            " [  1.  25.   1. 107.]\n",
            " [  1.  28.   0. 189.]\n",
            " ...\n",
            " [  0.  54.   2. 159.]\n",
            " [  1.  17.   1.  87.]\n",
            " [  1.  21.   0. 124.]]\n"
          ],
          "name": "stdout"
        },
        {
          "output_type": "execute_result",
          "data": {
            "text/plain": [
              "400"
            ]
          },
          "metadata": {
            "tags": []
          },
          "execution_count": 23
        }
      ]
    },
    {
      "cell_type": "code",
      "metadata": {
        "colab": {
          "base_uri": "https://localhost:8080/"
        },
        "id": "chqM0jDkIW-X",
        "outputId": "78f4fdfd-a9a9-4a7d-9f4c-719c5774f8c5"
      },
      "source": [
        "print(inputTesting)\n",
        "len(inputTesting)"
      ],
      "execution_count": 24,
      "outputs": [
        {
          "output_type": "stream",
          "text": [
            "[[  1.  20.   1.  83.]\n",
            " [  0.  27.   2. 111.]\n",
            " [  0.  28.   1. 129.]\n",
            " [  0.  21.   1.  42.]\n",
            " [  0.  32.   2.  36.]\n",
            " [  1.  37.   2. 128.]\n",
            " [  1.  89.   1. 138.]\n",
            " [  0.  41.   1.  85.]\n",
            " [  0.  72.   2. 115.]\n",
            " [  0.  46.   1.  69.]\n",
            " [  1.  61.   2. 144.]\n",
            " [  0.  51.   1.  45.]\n",
            " [  1.  74.   1.  68.]\n",
            " [  0.  28.   2.  42.]\n",
            " [  1.  46.   1.  65.]\n",
            " [  1.  32.   1. 127.]\n",
            " [  0.  57.   1. 123.]\n",
            " [  0.  22.   2.  98.]\n",
            " [  0.  49.   1. 116.]\n",
            " [  0.  90.   1.  15.]\n",
            " [  0.  57.   0. 166.]\n",
            " [  1.  28.   1.  85.]\n",
            " [  0.  50.   2. 154.]\n",
            " [  0.  51.   1.  90.]\n",
            " [  1.  74.   1.  33.]\n",
            " [  0.  52.   2. 147.]\n",
            " [  1.  52.   1. 135.]\n",
            " [  0.  19.   1.   1.]\n",
            " [  0.  26.   1.  72.]\n",
            " [  1.  25.   0. 164.]\n",
            " [  0.  42.   1. 114.]\n",
            " [  0.  34.   1.  80.]\n",
            " [  1.  19.   1.  46.]\n",
            " [  1.  27.   2.  46.]\n",
            " [  1.  32.   0. 151.]\n",
            " [  0.  70.   2.  93.]\n",
            " [  1.  23.   1.  78.]\n",
            " [  0.  19.   2.  71.]\n",
            " [  1.  27.   1.  92.]\n",
            " [  0.  57.   1. 117.]\n",
            " [  0.  67.   2. 145.]\n",
            " [  1.  63.   0.  86.]\n",
            " [  1.  58.   1. 152.]\n",
            " [  0.  23.   2.  67.]\n",
            " [  1.  73.   2. 141.]\n",
            " [  1.  40.   2.  90.]\n",
            " [  0.  33.   1. 108.]\n",
            " [  1.  17.   1.  25.]\n",
            " [  0.  51.   2. 157.]\n",
            " [  1.  48.   1. 159.]\n",
            " [  0.  36.   1. 101.]\n",
            " [  1.  22.   1.  38.]\n",
            " [  0.  62.   1.  85.]\n",
            " [  1.  42.   1.  55.]\n",
            " [  0.  22.   2.  16.]\n",
            " [  0.  64.   1.  76.]\n",
            " [  1.  42.   1. 131.]\n",
            " [  1.  19.   2. 167.]\n",
            " [  0.  36.   1.  74.]\n",
            " [  0.  83.   1. 127.]\n",
            " [  1.  28.   1.  93.]\n",
            " [  0.  68.   2. 129.]\n",
            " [  1.  60.   1. 114.]\n",
            " [  0.  76.   1. 105.]\n",
            " [  1.  50.   0. 139.]\n",
            " [  1.  46.   1. 176.]\n",
            " [  1.  35.   1.  28.]\n",
            " [  0.  27.   0.  82.]\n",
            " [  0.  61.   1.  71.]\n",
            " [  1.  20.   1. 118.]\n",
            " [  1.  22.   1.  35.]\n",
            " [  0.  20.   2.  26.]\n",
            " [  0.  52.   1.  85.]\n",
            " [  1.  52.   1. 139.]\n",
            " [  0.  28.   1.  57.]\n",
            " [  1.  18.   1.  64.]\n",
            " [  1.  22.   0.  94.]\n",
            " [  0.  81.   1. 132.]\n",
            " [  1.  76.   1. 162.]\n",
            " [  0.  43.   1.  73.]\n",
            " [  0.  23.   1.  99.]\n",
            " [  1.  38.   1. 117.]\n",
            " [  1.  33.   1. 118.]\n",
            " [  0.  48.   2.  97.]\n",
            " [  0.  78.   1. 131.]\n",
            " [  1.  51.   1. 102.]\n",
            " [  0.  42.   1.  73.]\n",
            " [  1.  20.   2. 123.]\n",
            " [  0.  69.   2. 153.]\n",
            " [  0.  37.   2. 150.]\n",
            " [  1.  77.   1. 164.]\n",
            " [  0.  79.   1. 149.]\n",
            " [  0.  30.   2.  76.]\n",
            " [  1.  50.   2. 122.]\n",
            " [  0.  57.   2. 172.]\n",
            " [  1.  64.   2. 146.]\n",
            " [  1.  50.   2.  74.]\n",
            " [  0.  28.   2.  71.]\n",
            " [  1.  41.   1.  93.]\n",
            " [  1.  64.   1. 160.]\n",
            " [  1.  81.   1.  91.]\n",
            " [  0.  84.   1. 122.]\n",
            " [  0.  29.   1. 103.]\n",
            " [  1.  40.   1. 174.]\n",
            " [  0.  79.   1. 129.]\n",
            " [  1.  24.   0. 158.]\n",
            " [  1.  17.   1. 121.]\n",
            " [  0.  45.   1.  61.]\n",
            " [  0.  51.   2. 120.]\n",
            " [  0.  17.   1. 101.]\n",
            " [  1.  35.   1. 155.]\n",
            " [  0.  24.   1.  67.]\n",
            " [  1.  45.   1. 125.]\n",
            " [  1.  76.   2. 133.]\n",
            " [  0.  33.   0.  50.]\n",
            " [  0.  81.   2. 204.]\n",
            " [  1.  20.   1.  79.]\n",
            " [  0.  22.   2. 100.]\n",
            " [  1.  18.   1.  84.]\n",
            " [  1.  29.   1.  69.]\n",
            " [  1.  72.   1. 151.]\n",
            " [  0.  39.   2. 106.]\n",
            " [  0.  52.   1. 124.]\n",
            " [  0.  62.   1.  67.]\n",
            " [  0.  17.   1.  65.]\n",
            " [  1.  30.   1. 122.]\n",
            " [  1.  59.   2. 119.]\n",
            " [  1.  40.   2.  43.]\n",
            " [  1.  51.   1.  36.]\n",
            " [  0.  30.   1.  73.]\n",
            " [  0.  39.   1.  38.]\n",
            " [  1.  37.   0. 120.]\n",
            " [  0.  42.   2. 175.]\n",
            " [  0.  36.   1.  88.]\n",
            " [  0.  43.   2. 144.]\n",
            " [  1.  38.   1. 138.]\n",
            " [  1.  67.   1.  85.]\n",
            " [  0.  18.   1.  78.]\n",
            " [  0.  45.   0. 106.]\n",
            " [  1.  59.   1. 168.]\n",
            " [  1.  39.   1.  23.]\n",
            " [  0.  70.   2. 123.]\n",
            " [  0.  31.   2.  61.]\n",
            " [  0.  91.   1. 133.]\n",
            " [  0.  47.   1.  85.]\n",
            " [  1.  56.   1. 162.]\n",
            " [  0.  44.   2. 119.]\n",
            " [  1.  35.   1. 156.]\n",
            " [  0.  27.   1.  28.]\n",
            " [  0.  57.   2. 143.]\n",
            " [  0.  53.   1.  52.]\n",
            " [  1.  90.   1. 109.]\n",
            " [  0.  32.   1.  23.]\n",
            " [  1.  47.   1. 117.]\n",
            " [  0.  90.   1. 123.]\n",
            " [  0.  72.   2. 127.]\n",
            " [  0.  59.   0. 146.]\n",
            " [  1.  29.   2.  62.]\n",
            " [  0.  39.   1.  68.]\n",
            " [  1.  28.   2. 151.]\n",
            " [  1.  72.   1.  19.]\n",
            " [  1.  45.   0. 105.]\n",
            " [  1.  29.   1.  30.]\n",
            " [  1.  28.   1.  82.]\n",
            " [  0.  85.   1. 112.]\n",
            " [  1.  50.   1.  53.]\n",
            " [  0.  21.   1.  74.]\n",
            " [  1.  76.   2.  62.]\n",
            " [  1.  84.   1. 114.]\n",
            " [  1.  49.   1. 107.]\n",
            " [  0.  17.   1.  70.]\n",
            " [  1.  54.   1. 183.]\n",
            " [  0.  64.   2.  43.]\n",
            " [  0.  35.   2.  55.]\n",
            " [  0.  34.   2.  56.]\n",
            " [  1.  33.   1. 112.]\n",
            " [  1.  73.   0. 100.]\n",
            " [  0.  39.   1. 108.]\n",
            " [  1.  47.   2.  90.]\n",
            " [  0.  67.   2. 113.]\n",
            " [  0.  52.   1.  34.]\n",
            " [  1.  23.   1.  54.]\n",
            " [  1.  55.   1.  47.]\n",
            " [  1.  42.   1. 138.]\n",
            " [  1.  69.   2. 108.]\n",
            " [  0.  34.   2.  66.]\n",
            " [  1.  20.   1.  68.]\n",
            " [  0.  44.   0.  64.]\n",
            " [  1.  83.   2. 105.]\n",
            " [  0.  25.   1.  67.]\n",
            " [  0.  19.   1.  72.]\n",
            " [  0.  45.   1.  65.]\n",
            " [  0.  20.   1.  78.]\n",
            " [  0.  56.   1.  64.]\n",
            " [  1.  61.   1. 147.]\n",
            " [  1.  25.   1.  76.]\n",
            " [  0.  45.   2.  63.]\n",
            " [  1.  38.   1.  89.]\n",
            " [  0.  51.   1.  75.]\n",
            " [  0.  27.   1.  70.]]\n"
          ],
          "name": "stdout"
        },
        {
          "output_type": "execute_result",
          "data": {
            "text/plain": [
              "200"
            ]
          },
          "metadata": {
            "tags": []
          },
          "execution_count": 24
        }
      ]
    },
    {
      "cell_type": "code",
      "metadata": {
        "colab": {
          "base_uri": "https://localhost:8080/"
        },
        "id": "xTR3Jv_IIdrU",
        "outputId": "ee35e5cd-0e9e-45ce-d492-ede049e08996"
      },
      "source": [
        "print(labelTraining)\n",
        "len(labelTraining)"
      ],
      "execution_count": 25,
      "outputs": [
        {
          "output_type": "stream",
          "text": [
            "[0. 1. 0. 1. 1. 1. 1. 1. 0. 0. 1. 0. 0. 1. 1. 0. 1. 0. 0. 1. 1. 1. 1. 0.\n",
            " 1. 1. 0. 1. 0. 0. 0. 0. 1. 1. 1. 1. 1. 0. 1. 0. 1. 1. 1. 1. 1. 1. 1. 1.\n",
            " 1. 1. 1. 1. 0. 1. 0. 0. 1. 1. 0. 0. 1. 1. 1. 0. 0. 1. 0. 1. 0. 1. 0. 0.\n",
            " 1. 1. 0. 1. 1. 1. 1. 0. 1. 1. 0. 1. 0. 1. 0. 1. 0. 1. 1. 0. 0. 1. 1. 1.\n",
            " 0. 1. 1. 0. 1. 1. 0. 0. 0. 1. 0. 1. 1. 0. 1. 1. 0. 0. 1. 1. 0. 1. 1. 0.\n",
            " 0. 1. 0. 0. 0. 0. 1. 1. 1. 1. 0. 1. 0. 1. 0. 1. 0. 1. 1. 0. 1. 1. 1. 0.\n",
            " 1. 0. 1. 0. 1. 0. 0. 1. 1. 0. 0. 1. 1. 0. 1. 1. 1. 1. 1. 1. 0. 0. 0. 1.\n",
            " 1. 1. 1. 1. 0. 1. 1. 1. 0. 1. 1. 1. 1. 1. 1. 0. 0. 1. 0. 0. 1. 0. 0. 1.\n",
            " 0. 0. 1. 1. 1. 1. 1. 1. 1. 1. 1. 0. 1. 1. 1. 1. 1. 1. 1. 1. 1. 1. 1. 1.\n",
            " 0. 0. 1. 1. 0. 1. 1. 0. 1. 1. 1. 1. 0. 1. 1. 1. 1. 0. 1. 0. 1. 1. 0. 1.\n",
            " 0. 1. 1. 1. 0. 1. 0. 1. 1. 1. 1. 1. 0. 1. 1. 1. 1. 0. 0. 1. 0. 1. 0. 0.\n",
            " 1. 0. 1. 1. 1. 1. 1. 0. 1. 0. 0. 1. 1. 1. 0. 1. 0. 1. 1. 1. 1. 1. 1. 1.\n",
            " 1. 1. 1. 1. 1. 1. 1. 1. 1. 0. 0. 1. 1. 0. 1. 1. 1. 1. 0. 0. 1. 0. 0. 0.\n",
            " 0. 1. 1. 1. 1. 1. 1. 1. 1. 1. 1. 1. 1. 1. 1. 1. 0. 0. 1. 0. 0. 0. 1. 0.\n",
            " 1. 1. 0. 1. 1. 0. 1. 0. 0. 0. 1. 1. 1. 1. 0. 1. 0. 0. 1. 0. 1. 0. 0. 1.\n",
            " 1. 1. 1. 1. 1. 1. 0. 1. 1. 1. 1. 0. 0. 0. 0. 0. 1. 1. 0. 0. 1. 0. 1. 0.\n",
            " 0. 1. 1. 0. 0. 1. 1. 1. 0. 1. 1. 1. 0. 0. 1. 0.]\n"
          ],
          "name": "stdout"
        },
        {
          "output_type": "execute_result",
          "data": {
            "text/plain": [
              "400"
            ]
          },
          "metadata": {
            "tags": []
          },
          "execution_count": 25
        }
      ]
    },
    {
      "cell_type": "code",
      "metadata": {
        "colab": {
          "base_uri": "https://localhost:8080/"
        },
        "id": "1Dc9oyopIe9J",
        "outputId": "9ea22657-65a1-4af0-b89e-933d8bfa3aa9"
      },
      "source": [
        "print(labelTesting)\n",
        "len(labelTesting)"
      ],
      "execution_count": 26,
      "outputs": [
        {
          "output_type": "stream",
          "text": [
            "[1. 1. 1. 1. 0. 0. 0. 1. 1. 1. 0. 1. 1. 1. 0. 0. 1. 1. 1. 1. 1. 1. 1. 1.\n",
            " 0. 1. 0. 1. 1. 1. 1. 1. 0. 0. 0. 1. 0. 1. 1. 1. 1. 0. 0. 1. 1. 0. 1. 1.\n",
            " 1. 1. 0. 1. 1. 1. 1. 0. 0. 0. 1. 1. 1. 1. 0. 0. 0. 1. 1. 1. 1. 1. 1. 1.\n",
            " 1. 0. 1. 1. 0. 1. 0. 1. 1. 1. 0. 1. 1. 1. 1. 1. 1. 1. 0. 1. 1. 1. 0. 0.\n",
            " 0. 1. 0. 0. 0. 1. 1. 0. 1. 0. 1. 1. 1. 1. 0. 1. 0. 0. 1. 1. 1. 1. 1. 1.\n",
            " 0. 1. 1. 1. 1. 1. 0. 0. 0. 1. 1. 0. 0. 1. 1. 0. 0. 1. 1. 0. 0. 1. 1. 1.\n",
            " 1. 0. 1. 0. 1. 1. 1. 1. 0. 0. 1. 1. 1. 1. 1. 0. 0. 1. 1. 1. 1. 1. 1. 1.\n",
            " 0. 0. 1. 0. 1. 1. 1. 0. 0. 1. 0. 1. 1. 1. 1. 1. 0. 1. 1. 1. 0. 1. 1. 1.\n",
            " 1. 1. 0. 1. 1. 0. 1. 1.]\n"
          ],
          "name": "stdout"
        },
        {
          "output_type": "execute_result",
          "data": {
            "text/plain": [
              "200"
            ]
          },
          "metadata": {
            "tags": []
          },
          "execution_count": 26
        }
      ]
    },
    {
      "cell_type": "code",
      "metadata": {
        "id": "RMZJx-97Ilm0"
      },
      "source": [
        "#training model\n",
        "model = model.fit(inputTraining, labelTraining)"
      ],
      "execution_count": 27,
      "outputs": []
    },
    {
      "cell_type": "code",
      "metadata": {
        "colab": {
          "base_uri": "https://localhost:8080/"
        },
        "id": "5FRnNHEfItB5",
        "outputId": "5381b2fe-65d7-477a-9c30-a7d69c108084"
      },
      "source": [
        "#prediksi input data testing\n",
        "hasilPrediksi = model.predict(inputTesting)\n",
        "print(\"Label Sebenarnya: \", labelTesting)\n",
        "print(\"Hasil Prediksi: \", hasilPrediksi)"
      ],
      "execution_count": 28,
      "outputs": [
        {
          "output_type": "stream",
          "text": [
            "Label Sebenarnya:  [1. 1. 1. 1. 0. 0. 0. 1. 1. 1. 0. 1. 1. 1. 0. 0. 1. 1. 1. 1. 1. 1. 1. 1.\n",
            " 0. 1. 0. 1. 1. 1. 1. 1. 0. 0. 0. 1. 0. 1. 1. 1. 1. 0. 0. 1. 1. 0. 1. 1.\n",
            " 1. 1. 0. 1. 1. 1. 1. 0. 0. 0. 1. 1. 1. 1. 0. 0. 0. 1. 1. 1. 1. 1. 1. 1.\n",
            " 1. 0. 1. 1. 0. 1. 0. 1. 1. 1. 0. 1. 1. 1. 1. 1. 1. 1. 0. 1. 1. 1. 0. 0.\n",
            " 0. 1. 0. 0. 0. 1. 1. 0. 1. 0. 1. 1. 1. 1. 0. 1. 0. 0. 1. 1. 1. 1. 1. 1.\n",
            " 0. 1. 1. 1. 1. 1. 0. 0. 0. 1. 1. 0. 0. 1. 1. 0. 0. 1. 1. 0. 0. 1. 1. 1.\n",
            " 1. 0. 1. 0. 1. 1. 1. 1. 0. 0. 1. 1. 1. 1. 1. 0. 0. 1. 1. 1. 1. 1. 1. 1.\n",
            " 0. 0. 1. 0. 1. 1. 1. 0. 0. 1. 0. 1. 1. 1. 1. 1. 0. 1. 1. 1. 0. 1. 1. 1.\n",
            " 1. 1. 0. 1. 1. 0. 1. 1.]\n",
            "Hasil Prediksi:  [1. 1. 1. 1. 1. 0. 1. 1. 1. 1. 0. 1. 0. 1. 0. 0. 1. 1. 1. 1. 1. 1. 1. 1.\n",
            " 0. 1. 0. 1. 1. 0. 1. 1. 1. 0. 1. 1. 1. 1. 1. 1. 0. 0. 0. 1. 0. 1. 1. 0.\n",
            " 1. 0. 1. 1. 1. 0. 1. 1. 0. 1. 1. 1. 1. 0. 0. 0. 0. 0. 0. 1. 1. 1. 1. 1.\n",
            " 1. 0. 1. 1. 1. 1. 0. 1. 1. 0. 0. 1. 1. 0. 1. 0. 0. 1. 0. 1. 1. 0. 1. 0.\n",
            " 0. 1. 1. 1. 0. 1. 1. 0. 1. 0. 0. 1. 1. 1. 1. 1. 0. 1. 1. 1. 1. 1. 1. 1.\n",
            " 0. 1. 1. 1. 1. 0. 0. 1. 0. 1. 1. 0. 1. 1. 1. 0. 0. 1. 1. 1. 0. 0. 1. 1.\n",
            " 1. 1. 1. 1. 1. 0. 1. 0. 1. 0. 1. 1. 1. 0. 1. 0. 0. 0. 1. 1. 1. 0. 1. 0.\n",
            " 0. 0. 1. 0. 1. 1. 1. 0. 0. 1. 0. 1. 1. 1. 0. 0. 0. 1. 1. 1. 0. 1. 1. 1.\n",
            " 1. 1. 1. 1. 1. 0. 1. 1.]\n"
          ],
          "name": "stdout"
        }
      ]
    },
    {
      "cell_type": "code",
      "metadata": {
        "colab": {
          "base_uri": "https://localhost:8080/"
        },
        "id": "vvRNHlkcI0Nt",
        "outputId": "bcf82936-644f-4461-82af-850374135765"
      },
      "source": [
        "#hitung akurasi\n",
        "PrediksiBenar = (hasilPrediksi == labelTesting).sum()\n",
        "PrediksiSalah = (hasilPrediksi != labelTesting).sum()\n",
        "print(\"Prediksi Benar: \", PrediksiBenar, \"data\")\n",
        "print(\"Prediksi Salah: \", PrediksiSalah, \"data\")\n",
        "print(\"Akurasi: \", PrediksiBenar/(PrediksiBenar+PrediksiSalah)*100, \"%\")"
      ],
      "execution_count": 29,
      "outputs": [
        {
          "output_type": "stream",
          "text": [
            "Prediksi Benar:  152 data\n",
            "Prediksi Salah:  48 data\n",
            "Akurasi:  76.0 %\n"
          ],
          "name": "stdout"
        }
      ]
    },
    {
      "cell_type": "code",
      "metadata": {
        "colab": {
          "base_uri": "https://localhost:8080/"
        },
        "id": "xJqs8imCI10J",
        "outputId": "1b840949-7eab-4956-e45a-bf1898b221d1"
      },
      "source": [
        "#Gambar Decision Tree\n",
        "from sklearn.externals.six import StringIO\n",
        "import pydotplus\n",
        "from sklearn. tree import export_graphviz\n",
        "from IPython.display import Image\n",
        "dot_data = StringIO()\n",
        "export_graphviz(model, out_file=dot_data, filled=True, rounded=True, special_characters=True, feature_names=(['Gender', 'Age', 'PaymentMethod', 'LastTransaction']), class_names=(['Churn', 'Loyal']), max_depth=3)\n",
        "graph = pydotplus.graph_from_dot_data(dot_data.getvalue())\n",
        "graph.write_png('tree2.png')"
      ],
      "execution_count": 30,
      "outputs": [
        {
          "output_type": "stream",
          "text": [
            "/usr/local/lib/python3.7/dist-packages/sklearn/externals/six.py:31: FutureWarning: The module is deprecated in version 0.21 and will be removed in version 0.23 since we've dropped support for Python 2.7. Please rely on the official version of six (https://pypi.org/project/six/).\n",
            "  \"(https://pypi.org/project/six/).\", FutureWarning)\n"
          ],
          "name": "stderr"
        },
        {
          "output_type": "execute_result",
          "data": {
            "text/plain": [
              "True"
            ]
          },
          "metadata": {
            "tags": []
          },
          "execution_count": 30
        }
      ]
    },
    {
      "cell_type": "code",
      "metadata": {
        "colab": {
          "base_uri": "https://localhost:8080/"
        },
        "id": "qy8BvjsSI9eD",
        "outputId": "a79a4a91-be1b-456f-e1ab-acf0164a6886"
      },
      "source": [
        "#Export Text Tree\n",
        "text_representation = tree.export_text(model, feature_names=['Gender', 'Age', 'PaymentMethod', 'LastTransaction'])\n",
        "print(text_representation)"
      ],
      "execution_count": 31,
      "outputs": [
        {
          "output_type": "stream",
          "text": [
            "|--- Gender <= 0.50\n",
            "|   |--- LastTransaction <= 117.50\n",
            "|   |   |--- Age <= 75.50\n",
            "|   |   |   |--- Age <= 25.50\n",
            "|   |   |   |   |--- Age <= 24.50\n",
            "|   |   |   |   |   |--- LastTransaction <= 65.00\n",
            "|   |   |   |   |   |   |--- LastTransaction <= 56.00\n",
            "|   |   |   |   |   |   |   |--- class: 1.0\n",
            "|   |   |   |   |   |   |--- LastTransaction >  56.00\n",
            "|   |   |   |   |   |   |   |--- PaymentMethod <= 1.50\n",
            "|   |   |   |   |   |   |   |   |--- class: 1.0\n",
            "|   |   |   |   |   |   |   |--- PaymentMethod >  1.50\n",
            "|   |   |   |   |   |   |   |   |--- class: 0.0\n",
            "|   |   |   |   |   |--- LastTransaction >  65.00\n",
            "|   |   |   |   |   |   |--- class: 1.0\n",
            "|   |   |   |   |--- Age >  24.50\n",
            "|   |   |   |   |   |--- LastTransaction <= 89.00\n",
            "|   |   |   |   |   |   |--- class: 1.0\n",
            "|   |   |   |   |   |--- LastTransaction >  89.00\n",
            "|   |   |   |   |   |   |--- class: 0.0\n",
            "|   |   |   |--- Age >  25.50\n",
            "|   |   |   |   |--- class: 1.0\n",
            "|   |   |--- Age >  75.50\n",
            "|   |   |   |--- Age <= 79.50\n",
            "|   |   |   |   |--- class: 0.0\n",
            "|   |   |   |--- Age >  79.50\n",
            "|   |   |   |   |--- class: 1.0\n",
            "|   |--- LastTransaction >  117.50\n",
            "|   |   |--- PaymentMethod <= 0.50\n",
            "|   |   |   |--- LastTransaction <= 142.50\n",
            "|   |   |   |   |--- class: 0.0\n",
            "|   |   |   |--- LastTransaction >  142.50\n",
            "|   |   |   |   |--- Age <= 59.50\n",
            "|   |   |   |   |   |--- class: 1.0\n",
            "|   |   |   |   |--- Age >  59.50\n",
            "|   |   |   |   |   |--- class: 0.0\n",
            "|   |   |--- PaymentMethod >  0.50\n",
            "|   |   |   |--- Age <= 33.50\n",
            "|   |   |   |   |--- class: 1.0\n",
            "|   |   |   |--- Age >  33.50\n",
            "|   |   |   |   |--- Age <= 37.50\n",
            "|   |   |   |   |   |--- LastTransaction <= 119.50\n",
            "|   |   |   |   |   |   |--- class: 1.0\n",
            "|   |   |   |   |   |--- LastTransaction >  119.50\n",
            "|   |   |   |   |   |   |--- LastTransaction <= 130.00\n",
            "|   |   |   |   |   |   |   |--- class: 0.0\n",
            "|   |   |   |   |   |   |--- LastTransaction >  130.00\n",
            "|   |   |   |   |   |   |   |--- class: 1.0\n",
            "|   |   |   |   |--- Age >  37.50\n",
            "|   |   |   |   |   |--- PaymentMethod <= 1.50\n",
            "|   |   |   |   |   |   |--- Age <= 77.50\n",
            "|   |   |   |   |   |   |   |--- Age <= 45.50\n",
            "|   |   |   |   |   |   |   |   |--- LastTransaction <= 135.00\n",
            "|   |   |   |   |   |   |   |   |   |--- Age <= 41.50\n",
            "|   |   |   |   |   |   |   |   |   |   |--- class: 1.0\n",
            "|   |   |   |   |   |   |   |   |   |--- Age >  41.50\n",
            "|   |   |   |   |   |   |   |   |   |   |--- class: 0.0\n",
            "|   |   |   |   |   |   |   |   |--- LastTransaction >  135.00\n",
            "|   |   |   |   |   |   |   |   |   |--- class: 1.0\n",
            "|   |   |   |   |   |   |   |--- Age >  45.50\n",
            "|   |   |   |   |   |   |   |   |--- class: 1.0\n",
            "|   |   |   |   |   |   |--- Age >  77.50\n",
            "|   |   |   |   |   |   |   |--- Age <= 82.50\n",
            "|   |   |   |   |   |   |   |   |--- LastTransaction <= 153.00\n",
            "|   |   |   |   |   |   |   |   |   |--- class: 1.0\n",
            "|   |   |   |   |   |   |   |   |--- LastTransaction >  153.00\n",
            "|   |   |   |   |   |   |   |   |   |--- LastTransaction <= 158.50\n",
            "|   |   |   |   |   |   |   |   |   |   |--- class: 0.0\n",
            "|   |   |   |   |   |   |   |   |   |--- LastTransaction >  158.50\n",
            "|   |   |   |   |   |   |   |   |   |   |--- Age <= 80.00\n",
            "|   |   |   |   |   |   |   |   |   |   |   |--- class: 1.0\n",
            "|   |   |   |   |   |   |   |   |   |   |--- Age >  80.00\n",
            "|   |   |   |   |   |   |   |   |   |   |   |--- class: 0.0\n",
            "|   |   |   |   |   |   |   |--- Age >  82.50\n",
            "|   |   |   |   |   |   |   |   |--- class: 1.0\n",
            "|   |   |   |   |   |--- PaymentMethod >  1.50\n",
            "|   |   |   |   |   |   |--- Age <= 53.50\n",
            "|   |   |   |   |   |   |   |--- Age <= 41.50\n",
            "|   |   |   |   |   |   |   |   |--- LastTransaction <= 144.50\n",
            "|   |   |   |   |   |   |   |   |   |--- class: 0.0\n",
            "|   |   |   |   |   |   |   |   |--- LastTransaction >  144.50\n",
            "|   |   |   |   |   |   |   |   |   |--- Age <= 38.50\n",
            "|   |   |   |   |   |   |   |   |   |   |--- LastTransaction <= 188.00\n",
            "|   |   |   |   |   |   |   |   |   |   |   |--- class: 0.0\n",
            "|   |   |   |   |   |   |   |   |   |   |--- LastTransaction >  188.00\n",
            "|   |   |   |   |   |   |   |   |   |   |   |--- class: 1.0\n",
            "|   |   |   |   |   |   |   |   |   |--- Age >  38.50\n",
            "|   |   |   |   |   |   |   |   |   |   |--- class: 1.0\n",
            "|   |   |   |   |   |   |   |--- Age >  41.50\n",
            "|   |   |   |   |   |   |   |   |--- LastTransaction <= 181.00\n",
            "|   |   |   |   |   |   |   |   |   |--- class: 1.0\n",
            "|   |   |   |   |   |   |   |   |--- LastTransaction >  181.00\n",
            "|   |   |   |   |   |   |   |   |   |--- LastTransaction <= 192.50\n",
            "|   |   |   |   |   |   |   |   |   |   |--- class: 0.0\n",
            "|   |   |   |   |   |   |   |   |   |--- LastTransaction >  192.50\n",
            "|   |   |   |   |   |   |   |   |   |   |--- class: 1.0\n",
            "|   |   |   |   |   |   |--- Age >  53.50\n",
            "|   |   |   |   |   |   |   |--- LastTransaction <= 167.00\n",
            "|   |   |   |   |   |   |   |   |--- LastTransaction <= 163.50\n",
            "|   |   |   |   |   |   |   |   |   |--- Age <= 71.00\n",
            "|   |   |   |   |   |   |   |   |   |   |--- LastTransaction <= 161.00\n",
            "|   |   |   |   |   |   |   |   |   |   |   |--- truncated branch of depth 5\n",
            "|   |   |   |   |   |   |   |   |   |   |--- LastTransaction >  161.00\n",
            "|   |   |   |   |   |   |   |   |   |   |   |--- class: 1.0\n",
            "|   |   |   |   |   |   |   |   |   |--- Age >  71.00\n",
            "|   |   |   |   |   |   |   |   |   |   |--- class: 1.0\n",
            "|   |   |   |   |   |   |   |   |--- LastTransaction >  163.50\n",
            "|   |   |   |   |   |   |   |   |   |--- class: 0.0\n",
            "|   |   |   |   |   |   |   |--- LastTransaction >  167.00\n",
            "|   |   |   |   |   |   |   |   |--- class: 1.0\n",
            "|--- Gender >  0.50\n",
            "|   |--- Age <= 30.50\n",
            "|   |   |--- LastTransaction <= 121.00\n",
            "|   |   |   |--- Age <= 17.50\n",
            "|   |   |   |   |--- LastTransaction <= 82.50\n",
            "|   |   |   |   |   |--- class: 0.0\n",
            "|   |   |   |   |--- LastTransaction >  82.50\n",
            "|   |   |   |   |   |--- LastTransaction <= 101.00\n",
            "|   |   |   |   |   |   |--- class: 1.0\n",
            "|   |   |   |   |   |--- LastTransaction >  101.00\n",
            "|   |   |   |   |   |   |--- class: 0.0\n",
            "|   |   |   |--- Age >  17.50\n",
            "|   |   |   |   |--- PaymentMethod <= 1.50\n",
            "|   |   |   |   |   |--- LastTransaction <= 86.00\n",
            "|   |   |   |   |   |   |--- class: 1.0\n",
            "|   |   |   |   |   |--- LastTransaction >  86.00\n",
            "|   |   |   |   |   |   |--- LastTransaction <= 88.00\n",
            "|   |   |   |   |   |   |   |--- class: 0.0\n",
            "|   |   |   |   |   |   |--- LastTransaction >  88.00\n",
            "|   |   |   |   |   |   |   |--- LastTransaction <= 104.00\n",
            "|   |   |   |   |   |   |   |   |--- class: 1.0\n",
            "|   |   |   |   |   |   |   |--- LastTransaction >  104.00\n",
            "|   |   |   |   |   |   |   |   |--- LastTransaction <= 106.50\n",
            "|   |   |   |   |   |   |   |   |   |--- class: 0.0\n",
            "|   |   |   |   |   |   |   |   |--- LastTransaction >  106.50\n",
            "|   |   |   |   |   |   |   |   |   |--- LastTransaction <= 109.00\n",
            "|   |   |   |   |   |   |   |   |   |   |--- Age <= 26.00\n",
            "|   |   |   |   |   |   |   |   |   |   |   |--- class: 1.0\n",
            "|   |   |   |   |   |   |   |   |   |   |--- Age >  26.00\n",
            "|   |   |   |   |   |   |   |   |   |   |   |--- class: 0.0\n",
            "|   |   |   |   |   |   |   |   |   |--- LastTransaction >  109.00\n",
            "|   |   |   |   |   |   |   |   |   |   |--- class: 1.0\n",
            "|   |   |   |   |--- PaymentMethod >  1.50\n",
            "|   |   |   |   |   |--- class: 0.0\n",
            "|   |   |--- LastTransaction >  121.00\n",
            "|   |   |   |--- LastTransaction <= 131.50\n",
            "|   |   |   |   |--- class: 0.0\n",
            "|   |   |   |--- LastTransaction >  131.50\n",
            "|   |   |   |   |--- LastTransaction <= 143.50\n",
            "|   |   |   |   |   |--- class: 1.0\n",
            "|   |   |   |   |--- LastTransaction >  143.50\n",
            "|   |   |   |   |   |--- LastTransaction <= 171.50\n",
            "|   |   |   |   |   |   |--- LastTransaction <= 166.00\n",
            "|   |   |   |   |   |   |   |--- class: 0.0\n",
            "|   |   |   |   |   |   |--- LastTransaction >  166.00\n",
            "|   |   |   |   |   |   |   |--- class: 1.0\n",
            "|   |   |   |   |   |--- LastTransaction >  171.50\n",
            "|   |   |   |   |   |   |--- class: 0.0\n",
            "|   |--- Age >  30.50\n",
            "|   |   |--- Age <= 90.00\n",
            "|   |   |   |--- LastTransaction <= 138.00\n",
            "|   |   |   |   |--- Age <= 66.50\n",
            "|   |   |   |   |   |--- Age <= 41.00\n",
            "|   |   |   |   |   |   |--- Age <= 39.50\n",
            "|   |   |   |   |   |   |   |--- class: 0.0\n",
            "|   |   |   |   |   |   |--- Age >  39.50\n",
            "|   |   |   |   |   |   |   |--- LastTransaction <= 120.50\n",
            "|   |   |   |   |   |   |   |   |--- class: 1.0\n",
            "|   |   |   |   |   |   |   |--- LastTransaction >  120.50\n",
            "|   |   |   |   |   |   |   |   |--- class: 0.0\n",
            "|   |   |   |   |   |--- Age >  41.00\n",
            "|   |   |   |   |   |   |--- class: 0.0\n",
            "|   |   |   |   |--- Age >  66.50\n",
            "|   |   |   |   |   |--- LastTransaction <= 115.00\n",
            "|   |   |   |   |   |   |--- LastTransaction <= 55.50\n",
            "|   |   |   |   |   |   |   |--- LastTransaction <= 47.50\n",
            "|   |   |   |   |   |   |   |   |--- class: 0.0\n",
            "|   |   |   |   |   |   |   |--- LastTransaction >  47.50\n",
            "|   |   |   |   |   |   |   |   |--- class: 1.0\n",
            "|   |   |   |   |   |   |--- LastTransaction >  55.50\n",
            "|   |   |   |   |   |   |   |--- class: 0.0\n",
            "|   |   |   |   |   |--- LastTransaction >  115.00\n",
            "|   |   |   |   |   |   |--- class: 1.0\n",
            "|   |   |   |--- LastTransaction >  138.00\n",
            "|   |   |   |   |--- LastTransaction <= 143.50\n",
            "|   |   |   |   |   |--- LastTransaction <= 141.50\n",
            "|   |   |   |   |   |   |--- LastTransaction <= 140.50\n",
            "|   |   |   |   |   |   |   |--- Age <= 38.00\n",
            "|   |   |   |   |   |   |   |   |--- class: 1.0\n",
            "|   |   |   |   |   |   |   |--- Age >  38.00\n",
            "|   |   |   |   |   |   |   |   |--- LastTransaction <= 139.50\n",
            "|   |   |   |   |   |   |   |   |   |--- class: 0.0\n",
            "|   |   |   |   |   |   |   |   |--- LastTransaction >  139.50\n",
            "|   |   |   |   |   |   |   |   |   |--- class: 1.0\n",
            "|   |   |   |   |   |   |--- LastTransaction >  140.50\n",
            "|   |   |   |   |   |   |   |--- class: 0.0\n",
            "|   |   |   |   |   |--- LastTransaction >  141.50\n",
            "|   |   |   |   |   |   |--- Age <= 62.00\n",
            "|   |   |   |   |   |   |   |--- class: 1.0\n",
            "|   |   |   |   |   |   |--- Age >  62.00\n",
            "|   |   |   |   |   |   |   |--- LastTransaction <= 142.50\n",
            "|   |   |   |   |   |   |   |   |--- class: 0.0\n",
            "|   |   |   |   |   |   |   |--- LastTransaction >  142.50\n",
            "|   |   |   |   |   |   |   |   |--- class: 1.0\n",
            "|   |   |   |   |--- LastTransaction >  143.50\n",
            "|   |   |   |   |   |--- Age <= 32.50\n",
            "|   |   |   |   |   |   |--- class: 1.0\n",
            "|   |   |   |   |   |--- Age >  32.50\n",
            "|   |   |   |   |   |   |--- Age <= 83.00\n",
            "|   |   |   |   |   |   |   |--- LastTransaction <= 178.50\n",
            "|   |   |   |   |   |   |   |   |--- Age <= 64.50\n",
            "|   |   |   |   |   |   |   |   |   |--- Age <= 54.50\n",
            "|   |   |   |   |   |   |   |   |   |   |--- Age <= 37.50\n",
            "|   |   |   |   |   |   |   |   |   |   |   |--- truncated branch of depth 5\n",
            "|   |   |   |   |   |   |   |   |   |   |--- Age >  37.50\n",
            "|   |   |   |   |   |   |   |   |   |   |   |--- truncated branch of depth 4\n",
            "|   |   |   |   |   |   |   |   |   |--- Age >  54.50\n",
            "|   |   |   |   |   |   |   |   |   |   |--- PaymentMethod <= 0.50\n",
            "|   |   |   |   |   |   |   |   |   |   |   |--- class: 0.0\n",
            "|   |   |   |   |   |   |   |   |   |   |--- PaymentMethod >  0.50\n",
            "|   |   |   |   |   |   |   |   |   |   |   |--- truncated branch of depth 4\n",
            "|   |   |   |   |   |   |   |   |--- Age >  64.50\n",
            "|   |   |   |   |   |   |   |   |   |--- class: 0.0\n",
            "|   |   |   |   |   |   |   |--- LastTransaction >  178.50\n",
            "|   |   |   |   |   |   |   |   |--- Age <= 74.00\n",
            "|   |   |   |   |   |   |   |   |   |--- class: 0.0\n",
            "|   |   |   |   |   |   |   |   |--- Age >  74.00\n",
            "|   |   |   |   |   |   |   |   |   |--- Age <= 76.50\n",
            "|   |   |   |   |   |   |   |   |   |   |--- LastTransaction <= 195.50\n",
            "|   |   |   |   |   |   |   |   |   |   |   |--- class: 1.0\n",
            "|   |   |   |   |   |   |   |   |   |   |--- LastTransaction >  195.50\n",
            "|   |   |   |   |   |   |   |   |   |   |   |--- class: 0.0\n",
            "|   |   |   |   |   |   |   |   |   |--- Age >  76.50\n",
            "|   |   |   |   |   |   |   |   |   |   |--- class: 0.0\n",
            "|   |   |   |   |   |   |--- Age >  83.00\n",
            "|   |   |   |   |   |   |   |--- Age <= 86.50\n",
            "|   |   |   |   |   |   |   |   |--- class: 1.0\n",
            "|   |   |   |   |   |   |   |--- Age >  86.50\n",
            "|   |   |   |   |   |   |   |   |--- class: 0.0\n",
            "|   |   |--- Age >  90.00\n",
            "|   |   |   |--- class: 1.0\n",
            "\n"
          ],
          "name": "stdout"
        }
      ]
    }
  ]
}