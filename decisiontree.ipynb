{
  "nbformat": 4,
  "nbformat_minor": 0,
  "metadata": {
    "colab": {
      "name": "decisiontree.ipynb",
      "provenance": [],
      "authorship_tag": "ABX9TyNPlzp6Ibd93ccLzP0vQTpb",
      "include_colab_link": true
    },
    "kernelspec": {
      "name": "python3",
      "display_name": "Python 3"
    },
    "language_info": {
      "name": "python"
    }
  },
  "cells": [
    {
      "cell_type": "markdown",
      "metadata": {
        "id": "view-in-github",
        "colab_type": "text"
      },
      "source": [
        "<a href=\"https://colab.research.google.com/github/MaheswaraAW/Data-Mining/blob/main/decisiontree.ipynb\" target=\"_parent\"><img src=\"https://colab.research.google.com/assets/colab-badge.svg\" alt=\"Open In Colab\"/></a>"
      ]
    },
    {
      "cell_type": "code",
      "metadata": {
        "id": "FW0gnPbxQ6LZ"
      },
      "source": [
        "import numpy as np\n",
        "import pandas as pd\n",
        "from sklearn import tree"
      ],
      "execution_count": 65,
      "outputs": []
    },
    {
      "cell_type": "code",
      "metadata": {
        "id": "pGAsXPPjRcPE"
      },
      "source": [
        "#baca dataset file ke pandas dataframe\n",
        "DSCustomerChurn = pd.read_csv('customer-churn-data.csv', delimiter=',', header=0)\n",
        "#DSCustomerChurn = pd.read_csv('customer-churn-data.csv')\n",
        "#mengubah kelas (kolom \"Customer, Gender, PaymentMethod\") dari string ke unique-integer\n",
        "DSCustomerChurn[\"Customer\"] = pd.factorize(DSCustomerChurn.Customer)[0]\n",
        "DSCustomerChurn[\"Gender\"] = pd.factorize(DSCustomerChurn.Gender)[0]\n",
        "DSCustomerChurn[\"PaymentMethod\"] = pd.factorize(DSCustomerChurn.PaymentMethod)[0]\n",
        "\n",
        "#jika ingin drop kolom\n",
        "#DSCustomerChurn = DSCustomerChurn.drop(labels=\"Gender\", axis=1)\n",
        "#ubah dataframe ke array numpy matrix\n",
        "DSCustomerChurn = DSCustomerChurn.to_numpy()"
      ],
      "execution_count": 80,
      "outputs": []
    },
    {
      "cell_type": "code",
      "metadata": {
        "id": "dDrR3PuziPhH",
        "outputId": "0126f5d7-e027-4092-fde8-d8846295476e",
        "colab": {
          "base_uri": "https://localhost:8080/"
        }
      },
      "source": [
        "print(DSCustomerChurn)"
      ],
      "execution_count": 81,
      "outputs": [
        {
          "output_type": "stream",
          "text": [
            "[[  0  64   0   0  98]\n",
            " [  0  35   1   1 118]\n",
            " [  1  25   0   0 107]\n",
            " ...\n",
            " [  0  20   0  -1  60]\n",
            " [  0  19   0   0  49]\n",
            " [  1  24   0   0  25]]\n"
          ],
          "name": "stdout"
        }
      ]
    },
    {
      "cell_type": "code",
      "metadata": {
        "id": "Xa0gs044TUyZ"
      },
      "source": [
        "dataTraining = np.concatenate((DSCustomerChurn[0:400, :], DSCustomerChurn[500:900, :]), axis=0)\n",
        "dataTesting = np.concatenate((DSCustomerChurn[400:500, :], DSCustomerChurn[900:990, :]), axis=0)\n",
        "inputTraining = dataTraining[:, 0:5]\n",
        "inputTesting = dataTesting[:, 0:5]\n",
        "labelTraining = dataTraining[:, 4]\n",
        "labelTesting = dataTesting[:, 4]"
      ],
      "execution_count": 83,
      "outputs": []
    },
    {
      "cell_type": "code",
      "metadata": {
        "colab": {
          "base_uri": "https://localhost:8080/"
        },
        "id": "e1yGVZYkbwkC",
        "outputId": "52e8f7f2-d010-4bb5-c7dc-38f5e787f45d"
      },
      "source": [
        "model = tree.DecisionTreeClassifier()\n",
        "#training model\n",
        "model = model.fit(inputTraining, labelTraining)\n",
        "#prediksi input data testing\n",
        "hasilPrediksi = model.predict(inputTesting)\n",
        "print(\"label sebenarnya\", labelTesting)\n",
        "print(\"hasil prediksi\", hasilPrediksi)\n",
        "#hitung akurasi\n",
        "prediksiBenar = (hasilPrediksi == labelTesting).sum()\n",
        "prediksiSalah = (hasilPrediksi != labelTesting).sum()\n",
        "print(\"prediksi benar: \", prediksiBenar, \"data\")\n",
        "print(\"prediksi salah: \", prediksiSalah, \"data\")\n",
        "print(\"akurasi: \", prediksiBenar/(prediksiBenar+prediksiSalah)*100, \"%\")"
      ],
      "execution_count": 84,
      "outputs": [
        {
          "output_type": "stream",
          "text": [
            "label sebenarnya [108 158 129  59 121 160  80  70 140 115 106 175 166 122 195 139 165  48\n",
            " 159 155  38  63 127  68  94  61  85 107 169  86 128  95 104 141  61  43\n",
            " 162 139  64  67  85 140  56 136 167  47  64  55  67  21  91 140 166 177\n",
            "  82 127 169 178 129 162 162  87  49  59   3  70  68  69  93  95  43  99\n",
            "  13  69  77 150  44  83  94 127 122  77 180 119 109 210  65 192 100 125\n",
            " 103  87 110 156  96  92 116 146  37 170 113  67 133  85 177  55  78 101\n",
            "  68  35  34 104  89  87  80 104 150 148  42 168  75  77 111 110  89 107\n",
            "  86 100  75 111  93 123  49  54  79  38  23  40   7  87 103  49 106 108\n",
            " 114 129  83  34 119 104  77 109  57 102  70  19 128  99  91 141  35  95\n",
            "  71  45  94 130  75  74  97   6 148 108  51  24  71 118  91 109  49  59\n",
            "  57  89  45  58  66  56 105  23  24  43]\n",
            "hasil prediksi [108 158 129  59 121 160  80  70 140 115 106 175 166 122 195 139 165  47\n",
            " 159 155  37  63 127  68  94  61  85 107 169  86 128  95 104 141  61  43\n",
            " 162 139  64  67  85 140  56 136 167  47  64  55  67  15  91 140 166 177\n",
            "  82 127 169 178 129 162 162  87  50  59  11  70  68  69  93  95  43  99\n",
            "  11  69  77 150  44  83  94 127 122  77 180 119 109 210  65 191 100 125\n",
            " 103  87 110 156  96  92 116 146  38 170 113  67 133  85 177  55  78 101\n",
            "  68  33  33 104  89  87  80 104 150 148  42 168  75  77 111 110  89 107\n",
            "  86 100  75 111  93 123  50  53  79  37  23  37  11  87 103  50 106 108\n",
            " 114 129  83  34 119 104  77 109  57 102  70  15 128  99  91 141  35  95\n",
            "  71  45  94 130  75  74  97   1 148 108  51  23  71 118  91 109  50  59\n",
            "  57  89  45  58  66  56 105  23  23  43]\n",
            "prediksi benar:  169 data\n",
            "prediksi salah:  21 data\n",
            "akurasi:  88.94736842105263 %\n"
          ],
          "name": "stdout"
        }
      ]
    }
  ]
}